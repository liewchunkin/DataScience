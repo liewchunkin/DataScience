{
 "cells": [
  {
   "cell_type": "markdown",
   "metadata": {},
   "source": [
    "# Script File for Final Online Assessment (FOA) submission\n",
    "## BACS3013 Data Science\n",
    "\n",
    "### 2021/2022  October Examination\n",
    "\n",
    "It is an open-book e-assessment. You are allowed to refer to any practical notes/use cases/GitHub/Stack Overflow etc. Anyhow, you **MUST NOT** receive any help whatsoever from any other person. If you need any clarification, please directly ask the lecturer(s)-in-charge."
   ]
  },
  {
   "cell_type": "markdown",
   "metadata": {},
   "source": [
    "## Please insert your details below:\n",
    "    \n",
    "1) Double click the cell below\n",
    "\n",
    "\n",
    "2) Type your name and student id\n",
    "\n",
    "\n",
    "3) press CTRL + Enter"
   ]
  },
  {
   "cell_type": "markdown",
   "metadata": {},
   "source": [
    "# Name: Liew Chun Kin\n",
    "# Student ID: 21WMR04786\n",
    "# Programme: RDS2"
   ]
  },
  {
   "cell_type": "markdown",
   "metadata": {},
   "source": [
    "# Step 1: Put the last three digits of your student id as the my_state_number\n",
    "\n",
    "eg: if your id is 1902589\n",
    "\n",
    "You should then write\n",
    "\n",
    "\n",
    "my_state_number = 589"
   ]
  },
  {
   "cell_type": "code",
   "execution_count": 1,
   "metadata": {},
   "outputs": [],
   "source": [
    "# replace 589 with the last three digits of your student id\n",
    "# and then press CTRL + Enter\n",
    "my_state_number = 786"
   ]
  },
  {
   "cell_type": "markdown",
   "metadata": {},
   "source": [
    "# Step 2: Read the foa_dataset.csv"
   ]
  },
  {
   "cell_type": "code",
   "execution_count": 2,
   "metadata": {},
   "outputs": [
    {
     "data": {
      "text/html": [
       "<div>\n",
       "<style scoped>\n",
       "    .dataframe tbody tr th:only-of-type {\n",
       "        vertical-align: middle;\n",
       "    }\n",
       "\n",
       "    .dataframe tbody tr th {\n",
       "        vertical-align: top;\n",
       "    }\n",
       "\n",
       "    .dataframe thead th {\n",
       "        text-align: right;\n",
       "    }\n",
       "</style>\n",
       "<table border=\"1\" class=\"dataframe\">\n",
       "  <thead>\n",
       "    <tr style=\"text-align: right;\">\n",
       "      <th></th>\n",
       "      <th>names</th>\n",
       "      <th>satisfaction_level</th>\n",
       "      <th>last_evaluation</th>\n",
       "      <th>number_project</th>\n",
       "      <th>average_montly_hours</th>\n",
       "      <th>time_spend_company</th>\n",
       "      <th>Work_accident</th>\n",
       "      <th>promotion_last_5years</th>\n",
       "      <th>role</th>\n",
       "      <th>salary</th>\n",
       "      <th>class</th>\n",
       "    </tr>\n",
       "  </thead>\n",
       "  <tbody>\n",
       "    <tr>\n",
       "      <th>0</th>\n",
       "      <td>Jessica Stroud</td>\n",
       "      <td>0.38</td>\n",
       "      <td>0.53</td>\n",
       "      <td>2</td>\n",
       "      <td>157</td>\n",
       "      <td>3</td>\n",
       "      <td>0</td>\n",
       "      <td>0</td>\n",
       "      <td>sales</td>\n",
       "      <td>low</td>\n",
       "      <td>1</td>\n",
       "    </tr>\n",
       "    <tr>\n",
       "      <th>1</th>\n",
       "      <td>Daryl Fields</td>\n",
       "      <td>0.80</td>\n",
       "      <td>0.86</td>\n",
       "      <td>5</td>\n",
       "      <td>262</td>\n",
       "      <td>6</td>\n",
       "      <td>0</td>\n",
       "      <td>0</td>\n",
       "      <td>sales</td>\n",
       "      <td>medium</td>\n",
       "      <td>1</td>\n",
       "    </tr>\n",
       "    <tr>\n",
       "      <th>2</th>\n",
       "      <td>Daisy Anderson</td>\n",
       "      <td>0.11</td>\n",
       "      <td>0.88</td>\n",
       "      <td>7</td>\n",
       "      <td>272</td>\n",
       "      <td>4</td>\n",
       "      <td>0</td>\n",
       "      <td>0</td>\n",
       "      <td>sales</td>\n",
       "      <td>medium</td>\n",
       "      <td>1</td>\n",
       "    </tr>\n",
       "    <tr>\n",
       "      <th>3</th>\n",
       "      <td>Joseph Fernandez</td>\n",
       "      <td>0.72</td>\n",
       "      <td>0.87</td>\n",
       "      <td>5</td>\n",
       "      <td>223</td>\n",
       "      <td>5</td>\n",
       "      <td>0</td>\n",
       "      <td>0</td>\n",
       "      <td>sales</td>\n",
       "      <td>low</td>\n",
       "      <td>1</td>\n",
       "    </tr>\n",
       "    <tr>\n",
       "      <th>4</th>\n",
       "      <td>Herbert Moore</td>\n",
       "      <td>0.37</td>\n",
       "      <td>0.52</td>\n",
       "      <td>2</td>\n",
       "      <td>159</td>\n",
       "      <td>3</td>\n",
       "      <td>0</td>\n",
       "      <td>0</td>\n",
       "      <td>sales</td>\n",
       "      <td>low</td>\n",
       "      <td>1</td>\n",
       "    </tr>\n",
       "  </tbody>\n",
       "</table>\n",
       "</div>"
      ],
      "text/plain": [
       "              names  satisfaction_level  last_evaluation  number_project  \\\n",
       "0    Jessica Stroud                0.38             0.53               2   \n",
       "1      Daryl Fields                0.80             0.86               5   \n",
       "2    Daisy Anderson                0.11             0.88               7   \n",
       "3  Joseph Fernandez                0.72             0.87               5   \n",
       "4     Herbert Moore                0.37             0.52               2   \n",
       "\n",
       "   average_montly_hours  time_spend_company  Work_accident  \\\n",
       "0                   157                   3              0   \n",
       "1                   262                   6              0   \n",
       "2                   272                   4              0   \n",
       "3                   223                   5              0   \n",
       "4                   159                   3              0   \n",
       "\n",
       "   promotion_last_5years   role  salary  class  \n",
       "0                      0  sales     low      1  \n",
       "1                      0  sales  medium      1  \n",
       "2                      0  sales  medium      1  \n",
       "3                      0  sales     low      1  \n",
       "4                      0  sales     low      1  "
      ]
     },
     "execution_count": 2,
     "metadata": {},
     "output_type": "execute_result"
    }
   ],
   "source": [
    "import pandas as pd\n",
    "data = pd.read_csv(\"foa_dataset.csv\")\n",
    "\n",
    "data.head()"
   ]
  },
  {
   "cell_type": "markdown",
   "metadata": {},
   "source": [
    "# Step 3: Sample the data randomly the data and save the dataframe as myNewData"
   ]
  },
  {
   "cell_type": "code",
   "execution_count": 3,
   "metadata": {},
   "outputs": [
    {
     "data": {
      "text/html": [
       "<div>\n",
       "<style scoped>\n",
       "    .dataframe tbody tr th:only-of-type {\n",
       "        vertical-align: middle;\n",
       "    }\n",
       "\n",
       "    .dataframe tbody tr th {\n",
       "        vertical-align: top;\n",
       "    }\n",
       "\n",
       "    .dataframe thead th {\n",
       "        text-align: right;\n",
       "    }\n",
       "</style>\n",
       "<table border=\"1\" class=\"dataframe\">\n",
       "  <thead>\n",
       "    <tr style=\"text-align: right;\">\n",
       "      <th></th>\n",
       "      <th>names</th>\n",
       "      <th>satisfaction_level</th>\n",
       "      <th>last_evaluation</th>\n",
       "      <th>number_project</th>\n",
       "      <th>average_montly_hours</th>\n",
       "      <th>time_spend_company</th>\n",
       "      <th>Work_accident</th>\n",
       "      <th>promotion_last_5years</th>\n",
       "      <th>role</th>\n",
       "      <th>salary</th>\n",
       "      <th>class</th>\n",
       "    </tr>\n",
       "  </thead>\n",
       "  <tbody>\n",
       "    <tr>\n",
       "      <th>7686</th>\n",
       "      <td>Melissa Thompson</td>\n",
       "      <td>0.67</td>\n",
       "      <td>0.92</td>\n",
       "      <td>4</td>\n",
       "      <td>156</td>\n",
       "      <td>2</td>\n",
       "      <td>0</td>\n",
       "      <td>0</td>\n",
       "      <td>support</td>\n",
       "      <td>medium</td>\n",
       "      <td>0</td>\n",
       "    </tr>\n",
       "    <tr>\n",
       "      <th>8988</th>\n",
       "      <td>Beverly Valencia</td>\n",
       "      <td>0.96</td>\n",
       "      <td>0.93</td>\n",
       "      <td>3</td>\n",
       "      <td>238</td>\n",
       "      <td>2</td>\n",
       "      <td>0</td>\n",
       "      <td>0</td>\n",
       "      <td>technical</td>\n",
       "      <td>low</td>\n",
       "      <td>0</td>\n",
       "    </tr>\n",
       "    <tr>\n",
       "      <th>5850</th>\n",
       "      <td>George Graham</td>\n",
       "      <td>0.83</td>\n",
       "      <td>0.75</td>\n",
       "      <td>3</td>\n",
       "      <td>150</td>\n",
       "      <td>3</td>\n",
       "      <td>0</td>\n",
       "      <td>0</td>\n",
       "      <td>support</td>\n",
       "      <td>low</td>\n",
       "      <td>0</td>\n",
       "    </tr>\n",
       "    <tr>\n",
       "      <th>10600</th>\n",
       "      <td>Matthew Stuart</td>\n",
       "      <td>0.63</td>\n",
       "      <td>0.94</td>\n",
       "      <td>4</td>\n",
       "      <td>219</td>\n",
       "      <td>3</td>\n",
       "      <td>0</td>\n",
       "      <td>0</td>\n",
       "      <td>product_mng</td>\n",
       "      <td>low</td>\n",
       "      <td>0</td>\n",
       "    </tr>\n",
       "    <tr>\n",
       "      <th>6207</th>\n",
       "      <td>Jennifer White</td>\n",
       "      <td>0.63</td>\n",
       "      <td>0.98</td>\n",
       "      <td>4</td>\n",
       "      <td>210</td>\n",
       "      <td>3</td>\n",
       "      <td>0</td>\n",
       "      <td>0</td>\n",
       "      <td>sales</td>\n",
       "      <td>medium</td>\n",
       "      <td>0</td>\n",
       "    </tr>\n",
       "  </tbody>\n",
       "</table>\n",
       "</div>"
      ],
      "text/plain": [
       "                  names  satisfaction_level  last_evaluation  number_project  \\\n",
       "7686   Melissa Thompson                0.67             0.92               4   \n",
       "8988   Beverly Valencia                0.96             0.93               3   \n",
       "5850      George Graham                0.83             0.75               3   \n",
       "10600    Matthew Stuart                0.63             0.94               4   \n",
       "6207     Jennifer White                0.63             0.98               4   \n",
       "\n",
       "       average_montly_hours  time_spend_company  Work_accident  \\\n",
       "7686                    156                   2              0   \n",
       "8988                    238                   2              0   \n",
       "5850                    150                   3              0   \n",
       "10600                   219                   3              0   \n",
       "6207                    210                   3              0   \n",
       "\n",
       "       promotion_last_5years         role  salary  class  \n",
       "7686                       0      support  medium      0  \n",
       "8988                       0    technical     low      0  \n",
       "5850                       0      support     low      0  \n",
       "10600                      0  product_mng     low      0  \n",
       "6207                       0        sales  medium      0  "
      ]
     },
     "execution_count": 3,
     "metadata": {},
     "output_type": "execute_result"
    }
   ],
   "source": [
    "myNewData = data.sample(frac =.90, replace = False, random_state = my_state_number)\n",
    "myNewData.head()"
   ]
  },
  {
   "cell_type": "markdown",
   "metadata": {},
   "source": [
    "# Step 4: Start the Analytics using **myNewData** dataframe as the raw data\n",
    "Note: Your *myNewData* dataframe may be different from other students' *myNewData* dataframe"
   ]
  },
  {
   "cell_type": "markdown",
   "metadata": {},
   "source": [
    "# Business Understanding"
   ]
  },
  {
   "cell_type": "markdown",
   "metadata": {},
   "source": [
    "This dataset was downloaded from a Kaggle page. A human resources company wants to design an\n",
    "artificial intelligence model to predict employee attrition and is particularly interested to know the common factors or features affecting the employee leaving the company. A total number of 10 features\n",
    "have been selected. The company wants to have a complete solution that always gives high accuracy."
   ]
  },
  {
   "cell_type": "markdown",
   "metadata": {},
   "source": [
    "# Data Understanding"
   ]
  },
  {
   "cell_type": "markdown",
   "metadata": {},
   "source": [
    "The dataset contains 10 feature columns with indices 0-9 giving the information about various\n",
    "attributes that were collected from the employee. The last columns is the target variable (class) where 1 means the employee left the company while 0 means the employee stayed at the company"
   ]
  },
  {
   "cell_type": "code",
   "execution_count": 4,
   "metadata": {},
   "outputs": [],
   "source": [
    "import pandas as pd\n",
    "import seaborn as sns\n",
    "import sklearn\n",
    "import matplotlib.pyplot as plt\n",
    "import numpy as np\n",
    "import pickle\n",
    "from sklearn.metrics import classification_report\n",
    "from sklearn.naive_bayes import GaussianNB\n",
    "from sklearn.ensemble import RandomForestClassifier\n",
    "from sklearn.linear_model import LogisticRegression\n",
    "from sklearn.neighbors import KNeighborsClassifier\n",
    "from sklearn.preprocessing import StandardScaler\n",
    "from sklearn.preprocessing import Normalizer\n",
    "from sklearn.preprocessing import MinMaxScaler\n",
    "from sklearn.model_selection import train_test_split\n",
    "from sklearn.metrics import accuracy_score,precision_score,recall_score, confusion_matrix\n",
    "from sklearn.preprocessing import LabelEncoder, MinMaxScaler, StandardScaler, OneHotEncoder\n",
    "import missingno as msno\n",
    "from datetime import date\n",
    "from sklearn.cluster import KMeans\n",
    "from sklearn.model_selection import GridSearchCV\n",
    "#pip install --user scikit-learn"
   ]
  },
  {
   "cell_type": "markdown",
   "metadata": {},
   "source": [
    "#### Check unique data in each column"
   ]
  },
  {
   "cell_type": "code",
   "execution_count": 5,
   "metadata": {},
   "outputs": [
    {
     "name": "stdout",
     "output_type": "stream",
     "text": [
      "['Melissa Thompson' 'Beverly Valencia' 'George Graham' ... 'Robert Morgan'\n",
      " 'Evan Dennard' 'Kassandra Noe']\n",
      "[0.67 0.96 0.83 0.63 0.65 0.95 0.77 0.09 0.89 0.74 0.66 0.86 0.82 0.42\n",
      " 0.87 0.72 0.43 0.68 0.76 0.1  0.91 0.92 0.97 0.84 0.99 0.5  0.55 0.19\n",
      " 0.85 0.56 0.79 0.94 0.78 0.8  0.93 0.62 0.59 0.71 0.31 0.51 0.58 0.98\n",
      " 0.57 0.61 0.64 0.49 0.6  0.36 0.45 0.39 0.41 0.47 0.37 0.54 0.81 0.4\n",
      " 0.75 0.11 0.9  0.23 0.7  0.14 0.38 0.16 0.13 0.34 0.29 0.44 0.73 0.46\n",
      " 0.52 0.22 0.18 0.48 0.53 0.88 0.35 0.69 0.15 1.   0.2  0.24 0.26 0.33\n",
      " 0.21 0.25 0.12 0.3  0.27 0.32 0.28 0.17]\n",
      "[0.92 0.93 0.75 0.94 0.98 0.99 0.48 0.9  0.96 0.57 0.59 0.63 0.88 0.52\n",
      " 0.72 0.91 0.5  0.55 0.73 0.82 0.77 1.   0.58 0.64 0.41 0.49 0.83 0.68\n",
      " 0.84 0.6  0.51 0.8  0.76 0.87 0.95 0.97 0.47 0.44 0.4  0.74 0.66 0.62\n",
      " 0.61 0.85 0.69 0.53 0.67 0.79 0.65 0.86 0.81 0.89 0.43 0.56 0.71 0.45\n",
      " 0.7  0.78 0.54 0.42 0.39 0.46 0.38 0.37 0.36]\n",
      "[4 3 5 6 2 7]\n",
      "[156 238 150 219 210 240 225 170 256 233 278 215 232 199 151 154 267 164\n",
      " 129 197 242 244 239 169 261 192 135 152 252 101 274 226 200 178 287 143\n",
      " 175 188 273 149 123 268 191 265 171 133 271 158 264 218 203 121 145 181\n",
      " 223 117 147 144 134 160 137 157 131 221 280 286 204 229 253 234 161 196\n",
      " 184 173 132 104 130 136 231 224 166 142 247 284 254 259 277 237 187 198\n",
      " 294 180 235 270 163 186 248 222 148 282 275 266 250 162 245 272 118 205\n",
      " 159 201 206 141 258 100 212 193 291 276 263 155 168 189 213 138 236 228\n",
      " 230 297 243 269 177 246 146 217 182 140 211 179 174 172 214 128 167 262\n",
      " 113 108 103 165 208 220 260 285 190 227 299 139 307 202 241 207 255 209\n",
      " 126 257 153 293 127 251 124 303 301 194 183 281 249 176 125  98 115 120\n",
      " 300 310 114 216 110 105 289 279 185 195 304 283 109 122  99 290 296 292\n",
      "  97 306 111 305 308 298 107 288 102 106 309  96 116 302 112 119 295]\n",
      "[ 2  3  5  7  4  6 10  8]\n",
      "[0 1]\n",
      "[0 1]\n",
      "['support' 'technical' 'product_mng' 'sales' 'RandD' 'IT' 'management'\n",
      " 'accounting' 'hr' 'marketing']\n",
      "['medium' 'low' 'high']\n",
      "[0 1]\n"
     ]
    }
   ],
   "source": [
    "print(myNewData['names'].unique())\n",
    "print(myNewData['satisfaction_level'].unique())\n",
    "print(myNewData['last_evaluation'].unique())\n",
    "print(myNewData['number_project'].unique())\n",
    "print(myNewData['average_montly_hours'].unique())\n",
    "print(myNewData['time_spend_company'].unique())\n",
    "print(myNewData['Work_accident'].unique())\n",
    "print(myNewData['promotion_last_5years'].unique())\n",
    "print(myNewData['role'].unique())\n",
    "print(myNewData['salary'].unique())\n",
    "print(myNewData['class'].unique())"
   ]
  },
  {
   "cell_type": "code",
   "execution_count": 6,
   "metadata": {},
   "outputs": [
    {
     "name": "stdout",
     "output_type": "stream",
     "text": [
      "<class 'pandas.core.frame.DataFrame'>\n",
      "Int64Index: 13499 entries, 7686 to 7952\n",
      "Data columns (total 11 columns):\n",
      " #   Column                 Non-Null Count  Dtype  \n",
      "---  ------                 --------------  -----  \n",
      " 0   names                  13499 non-null  object \n",
      " 1   satisfaction_level     13499 non-null  float64\n",
      " 2   last_evaluation        13499 non-null  float64\n",
      " 3   number_project         13499 non-null  int64  \n",
      " 4   average_montly_hours   13499 non-null  int64  \n",
      " 5   time_spend_company     13499 non-null  int64  \n",
      " 6   Work_accident          13499 non-null  int64  \n",
      " 7   promotion_last_5years  13499 non-null  int64  \n",
      " 8   role                   13499 non-null  object \n",
      " 9   salary                 13499 non-null  object \n",
      " 10  class                  13499 non-null  int64  \n",
      "dtypes: float64(2), int64(6), object(3)\n",
      "memory usage: 1.2+ MB\n"
     ]
    }
   ],
   "source": [
    "myNewData.info()"
   ]
  },
  {
   "cell_type": "code",
   "execution_count": 7,
   "metadata": {},
   "outputs": [
    {
     "data": {
      "text/plain": [
       "(13499, 11)"
      ]
     },
     "execution_count": 7,
     "metadata": {},
     "output_type": "execute_result"
    }
   ],
   "source": [
    "myNewData.shape"
   ]
  },
  {
   "cell_type": "code",
   "execution_count": 8,
   "metadata": {},
   "outputs": [
    {
     "data": {
      "text/html": [
       "<div>\n",
       "<style scoped>\n",
       "    .dataframe tbody tr th:only-of-type {\n",
       "        vertical-align: middle;\n",
       "    }\n",
       "\n",
       "    .dataframe tbody tr th {\n",
       "        vertical-align: top;\n",
       "    }\n",
       "\n",
       "    .dataframe thead th {\n",
       "        text-align: right;\n",
       "    }\n",
       "</style>\n",
       "<table border=\"1\" class=\"dataframe\">\n",
       "  <thead>\n",
       "    <tr style=\"text-align: right;\">\n",
       "      <th></th>\n",
       "      <th>satisfaction_level</th>\n",
       "      <th>last_evaluation</th>\n",
       "      <th>number_project</th>\n",
       "      <th>average_montly_hours</th>\n",
       "      <th>time_spend_company</th>\n",
       "      <th>Work_accident</th>\n",
       "      <th>promotion_last_5years</th>\n",
       "      <th>class</th>\n",
       "    </tr>\n",
       "  </thead>\n",
       "  <tbody>\n",
       "    <tr>\n",
       "      <th>satisfaction_level</th>\n",
       "      <td>1.000000</td>\n",
       "      <td>0.109796</td>\n",
       "      <td>-0.136181</td>\n",
       "      <td>-0.015530</td>\n",
       "      <td>-0.102898</td>\n",
       "      <td>0.056676</td>\n",
       "      <td>0.024728</td>\n",
       "      <td>-0.385582</td>\n",
       "    </tr>\n",
       "    <tr>\n",
       "      <th>last_evaluation</th>\n",
       "      <td>0.109796</td>\n",
       "      <td>1.000000</td>\n",
       "      <td>0.344765</td>\n",
       "      <td>0.338404</td>\n",
       "      <td>0.128411</td>\n",
       "      <td>-0.009596</td>\n",
       "      <td>-0.006967</td>\n",
       "      <td>0.003780</td>\n",
       "    </tr>\n",
       "    <tr>\n",
       "      <th>number_project</th>\n",
       "      <td>-0.136181</td>\n",
       "      <td>0.344765</td>\n",
       "      <td>1.000000</td>\n",
       "      <td>0.410330</td>\n",
       "      <td>0.195202</td>\n",
       "      <td>-0.005259</td>\n",
       "      <td>-0.002820</td>\n",
       "      <td>0.019043</td>\n",
       "    </tr>\n",
       "    <tr>\n",
       "      <th>average_montly_hours</th>\n",
       "      <td>-0.015530</td>\n",
       "      <td>0.338404</td>\n",
       "      <td>0.410330</td>\n",
       "      <td>1.000000</td>\n",
       "      <td>0.123727</td>\n",
       "      <td>-0.007930</td>\n",
       "      <td>-0.003389</td>\n",
       "      <td>0.068737</td>\n",
       "    </tr>\n",
       "    <tr>\n",
       "      <th>time_spend_company</th>\n",
       "      <td>-0.102898</td>\n",
       "      <td>0.128411</td>\n",
       "      <td>0.195202</td>\n",
       "      <td>0.123727</td>\n",
       "      <td>1.000000</td>\n",
       "      <td>0.005681</td>\n",
       "      <td>0.072503</td>\n",
       "      <td>0.144178</td>\n",
       "    </tr>\n",
       "    <tr>\n",
       "      <th>Work_accident</th>\n",
       "      <td>0.056676</td>\n",
       "      <td>-0.009596</td>\n",
       "      <td>-0.005259</td>\n",
       "      <td>-0.007930</td>\n",
       "      <td>0.005681</td>\n",
       "      <td>1.000000</td>\n",
       "      <td>0.037128</td>\n",
       "      <td>-0.153376</td>\n",
       "    </tr>\n",
       "    <tr>\n",
       "      <th>promotion_last_5years</th>\n",
       "      <td>0.024728</td>\n",
       "      <td>-0.006967</td>\n",
       "      <td>-0.002820</td>\n",
       "      <td>-0.003389</td>\n",
       "      <td>0.072503</td>\n",
       "      <td>0.037128</td>\n",
       "      <td>1.000000</td>\n",
       "      <td>-0.065373</td>\n",
       "    </tr>\n",
       "    <tr>\n",
       "      <th>class</th>\n",
       "      <td>-0.385582</td>\n",
       "      <td>0.003780</td>\n",
       "      <td>0.019043</td>\n",
       "      <td>0.068737</td>\n",
       "      <td>0.144178</td>\n",
       "      <td>-0.153376</td>\n",
       "      <td>-0.065373</td>\n",
       "      <td>1.000000</td>\n",
       "    </tr>\n",
       "  </tbody>\n",
       "</table>\n",
       "</div>"
      ],
      "text/plain": [
       "                       satisfaction_level  last_evaluation  number_project  \\\n",
       "satisfaction_level               1.000000         0.109796       -0.136181   \n",
       "last_evaluation                  0.109796         1.000000        0.344765   \n",
       "number_project                  -0.136181         0.344765        1.000000   \n",
       "average_montly_hours            -0.015530         0.338404        0.410330   \n",
       "time_spend_company              -0.102898         0.128411        0.195202   \n",
       "Work_accident                    0.056676        -0.009596       -0.005259   \n",
       "promotion_last_5years            0.024728        -0.006967       -0.002820   \n",
       "class                           -0.385582         0.003780        0.019043   \n",
       "\n",
       "                       average_montly_hours  time_spend_company  \\\n",
       "satisfaction_level                -0.015530           -0.102898   \n",
       "last_evaluation                    0.338404            0.128411   \n",
       "number_project                     0.410330            0.195202   \n",
       "average_montly_hours               1.000000            0.123727   \n",
       "time_spend_company                 0.123727            1.000000   \n",
       "Work_accident                     -0.007930            0.005681   \n",
       "promotion_last_5years             -0.003389            0.072503   \n",
       "class                              0.068737            0.144178   \n",
       "\n",
       "                       Work_accident  promotion_last_5years     class  \n",
       "satisfaction_level          0.056676               0.024728 -0.385582  \n",
       "last_evaluation            -0.009596              -0.006967  0.003780  \n",
       "number_project             -0.005259              -0.002820  0.019043  \n",
       "average_montly_hours       -0.007930              -0.003389  0.068737  \n",
       "time_spend_company          0.005681               0.072503  0.144178  \n",
       "Work_accident               1.000000               0.037128 -0.153376  \n",
       "promotion_last_5years       0.037128               1.000000 -0.065373  \n",
       "class                      -0.153376              -0.065373  1.000000  "
      ]
     },
     "execution_count": 8,
     "metadata": {},
     "output_type": "execute_result"
    }
   ],
   "source": [
    "myNewData.corr(method ='pearson')"
   ]
  },
  {
   "cell_type": "markdown",
   "metadata": {},
   "source": [
    "From the table above, it is clear that all points are having  a strong  positive correlation to \n",
    "each other."
   ]
  },
  {
   "cell_type": "code",
   "execution_count": 9,
   "metadata": {},
   "outputs": [
    {
     "data": {
      "text/plain": [
       "names                     object\n",
       "satisfaction_level       float64\n",
       "last_evaluation          float64\n",
       "number_project             int64\n",
       "average_montly_hours       int64\n",
       "time_spend_company         int64\n",
       "Work_accident              int64\n",
       "promotion_last_5years      int64\n",
       "role                      object\n",
       "salary                    object\n",
       "class                      int64\n",
       "dtype: object"
      ]
     },
     "execution_count": 9,
     "metadata": {},
     "output_type": "execute_result"
    }
   ],
   "source": [
    "myNewData.dtypes"
   ]
  },
  {
   "cell_type": "code",
   "execution_count": 10,
   "metadata": {},
   "outputs": [
    {
     "data": {
      "text/html": [
       "<div>\n",
       "<style scoped>\n",
       "    .dataframe tbody tr th:only-of-type {\n",
       "        vertical-align: middle;\n",
       "    }\n",
       "\n",
       "    .dataframe tbody tr th {\n",
       "        vertical-align: top;\n",
       "    }\n",
       "\n",
       "    .dataframe thead th {\n",
       "        text-align: right;\n",
       "    }\n",
       "</style>\n",
       "<table border=\"1\" class=\"dataframe\">\n",
       "  <thead>\n",
       "    <tr style=\"text-align: right;\">\n",
       "      <th></th>\n",
       "      <th>satisfaction_level</th>\n",
       "      <th>last_evaluation</th>\n",
       "      <th>number_project</th>\n",
       "      <th>average_montly_hours</th>\n",
       "      <th>time_spend_company</th>\n",
       "      <th>Work_accident</th>\n",
       "      <th>promotion_last_5years</th>\n",
       "      <th>class</th>\n",
       "    </tr>\n",
       "  </thead>\n",
       "  <tbody>\n",
       "    <tr>\n",
       "      <th>count</th>\n",
       "      <td>13499.000000</td>\n",
       "      <td>13499.000000</td>\n",
       "      <td>13499.000000</td>\n",
       "      <td>13499.000000</td>\n",
       "      <td>13499.000000</td>\n",
       "      <td>13499.000000</td>\n",
       "      <td>13499.000000</td>\n",
       "      <td>13499.000000</td>\n",
       "    </tr>\n",
       "    <tr>\n",
       "      <th>mean</th>\n",
       "      <td>0.614789</td>\n",
       "      <td>0.716855</td>\n",
       "      <td>3.803541</td>\n",
       "      <td>201.095785</td>\n",
       "      <td>3.499667</td>\n",
       "      <td>0.145640</td>\n",
       "      <td>0.021928</td>\n",
       "      <td>0.236092</td>\n",
       "    </tr>\n",
       "    <tr>\n",
       "      <th>std</th>\n",
       "      <td>0.247993</td>\n",
       "      <td>0.171309</td>\n",
       "      <td>1.228550</td>\n",
       "      <td>49.906096</td>\n",
       "      <td>1.465885</td>\n",
       "      <td>0.352758</td>\n",
       "      <td>0.146452</td>\n",
       "      <td>0.424695</td>\n",
       "    </tr>\n",
       "    <tr>\n",
       "      <th>min</th>\n",
       "      <td>0.090000</td>\n",
       "      <td>0.360000</td>\n",
       "      <td>2.000000</td>\n",
       "      <td>96.000000</td>\n",
       "      <td>2.000000</td>\n",
       "      <td>0.000000</td>\n",
       "      <td>0.000000</td>\n",
       "      <td>0.000000</td>\n",
       "    </tr>\n",
       "    <tr>\n",
       "      <th>25%</th>\n",
       "      <td>0.440000</td>\n",
       "      <td>0.560000</td>\n",
       "      <td>3.000000</td>\n",
       "      <td>156.000000</td>\n",
       "      <td>3.000000</td>\n",
       "      <td>0.000000</td>\n",
       "      <td>0.000000</td>\n",
       "      <td>0.000000</td>\n",
       "    </tr>\n",
       "    <tr>\n",
       "      <th>50%</th>\n",
       "      <td>0.650000</td>\n",
       "      <td>0.720000</td>\n",
       "      <td>4.000000</td>\n",
       "      <td>200.000000</td>\n",
       "      <td>3.000000</td>\n",
       "      <td>0.000000</td>\n",
       "      <td>0.000000</td>\n",
       "      <td>0.000000</td>\n",
       "    </tr>\n",
       "    <tr>\n",
       "      <th>75%</th>\n",
       "      <td>0.820000</td>\n",
       "      <td>0.870000</td>\n",
       "      <td>5.000000</td>\n",
       "      <td>245.000000</td>\n",
       "      <td>4.000000</td>\n",
       "      <td>0.000000</td>\n",
       "      <td>0.000000</td>\n",
       "      <td>0.000000</td>\n",
       "    </tr>\n",
       "    <tr>\n",
       "      <th>max</th>\n",
       "      <td>1.000000</td>\n",
       "      <td>1.000000</td>\n",
       "      <td>7.000000</td>\n",
       "      <td>310.000000</td>\n",
       "      <td>10.000000</td>\n",
       "      <td>1.000000</td>\n",
       "      <td>1.000000</td>\n",
       "      <td>1.000000</td>\n",
       "    </tr>\n",
       "  </tbody>\n",
       "</table>\n",
       "</div>"
      ],
      "text/plain": [
       "       satisfaction_level  last_evaluation  number_project  \\\n",
       "count        13499.000000     13499.000000    13499.000000   \n",
       "mean             0.614789         0.716855        3.803541   \n",
       "std              0.247993         0.171309        1.228550   \n",
       "min              0.090000         0.360000        2.000000   \n",
       "25%              0.440000         0.560000        3.000000   \n",
       "50%              0.650000         0.720000        4.000000   \n",
       "75%              0.820000         0.870000        5.000000   \n",
       "max              1.000000         1.000000        7.000000   \n",
       "\n",
       "       average_montly_hours  time_spend_company  Work_accident  \\\n",
       "count          13499.000000        13499.000000   13499.000000   \n",
       "mean             201.095785            3.499667       0.145640   \n",
       "std               49.906096            1.465885       0.352758   \n",
       "min               96.000000            2.000000       0.000000   \n",
       "25%              156.000000            3.000000       0.000000   \n",
       "50%              200.000000            3.000000       0.000000   \n",
       "75%              245.000000            4.000000       0.000000   \n",
       "max              310.000000           10.000000       1.000000   \n",
       "\n",
       "       promotion_last_5years         class  \n",
       "count           13499.000000  13499.000000  \n",
       "mean                0.021928      0.236092  \n",
       "std                 0.146452      0.424695  \n",
       "min                 0.000000      0.000000  \n",
       "25%                 0.000000      0.000000  \n",
       "50%                 0.000000      0.000000  \n",
       "75%                 0.000000      0.000000  \n",
       "max                 1.000000      1.000000  "
      ]
     },
     "execution_count": 10,
     "metadata": {},
     "output_type": "execute_result"
    }
   ],
   "source": [
    "myNewData.describe()"
   ]
  },
  {
   "cell_type": "markdown",
   "metadata": {},
   "source": [
    "\n",
    "From the table above, it is clearly shown that the count, mean, standard deviation, minimum, first \n",
    "quartile, median, third quartile and maximum values for each feature."
   ]
  },
  {
   "cell_type": "code",
   "execution_count": 11,
   "metadata": {},
   "outputs": [
    {
     "data": {
      "image/png": "[encoded data removed]",
      "text/plain": [
       "<Figure size 432x288 with 1 Axes>"
      ]
     },
     "metadata": {
      "needs_background": "light"
     },
     "output_type": "display_data"
    }
   ],
   "source": [
    "y = \"class\"\n",
    "ax = myNewData[y].value_counts().sort_values().plot(kind=\"barh\") \n",
    "totals= []\n",
    "for i in ax.patches: \n",
    "    totals.append(i.get_width())\n",
    "total = sum(totals) \n",
    "for i in ax.patches:\n",
    "    ax.text(i.get_width()+.3, i.get_y()+.20, \n",
    "    str(round(i.get_width())),\n",
    "    fontsize=10, color='black') \n",
    "ax.grid(axis=\"x\") \n",
    "plt.suptitle(y, fontsize=20) \n",
    "plt.show()"
   ]
  },
  {
   "cell_type": "code",
   "execution_count": 118,
   "metadata": {},
   "outputs": [
    {
     "data": {
      "image/png": "[encoded data removed]",
      "text/plain": [
       "<Figure size 360x360 with 1 Axes>"
      ]
     },
     "metadata": {},
     "output_type": "display_data"
    }
   ],
   "source": [
    "# Print Pie Chart\n",
    "plt.figure(figsize=(5,5))\n",
    "stay = len(myNewData[myNewData['class'] == 0])\n",
    "left = len(myNewData[myNewData['class'] == 1])\n",
    "plt.title(\"Percentage Result of stay and left\",fontsize = 15)\n",
    "plt.pie(x=[stay, left], explode=[0.05, 0], labels=['Stay', 'Left'], autopct='%1.2f%%', shadow=True,startangle = 90)\n",
    "plt.show()\n",
    "\n",
    "#'target' refers to the dependent variable (y)"
   ]
  },
  {
   "cell_type": "markdown",
   "metadata": {},
   "source": [
    "Above bar plot is appropriate  to understand  labels frequency for a single categorical variable. \n",
    "Up to 13499 rows, the stay rate is 1 10312(76.39%) compare to left rate\n",
    "is 3187(23.61%)."
   ]
  },
  {
   "cell_type": "markdown",
   "metadata": {},
   "source": [
    "# Data Preprocessing\n",
    "- Cleaning the data\n",
    "- Label Encoder\n",
    "- Standardizing the data\n",
    "- Normalization"
   ]
  },
  {
   "cell_type": "code",
   "execution_count": 12,
   "metadata": {},
   "outputs": [
    {
     "data": {
      "text/plain": [
       "names                    0\n",
       "satisfaction_level       0\n",
       "last_evaluation          0\n",
       "number_project           0\n",
       "average_montly_hours     0\n",
       "time_spend_company       0\n",
       "Work_accident            0\n",
       "promotion_last_5years    0\n",
       "role                     0\n",
       "salary                   0\n",
       "class                    0\n",
       "dtype: int64"
      ]
     },
     "execution_count": 12,
     "metadata": {},
     "output_type": "execute_result"
    }
   ],
   "source": [
    "#identify missing value\n",
    "myNewData.isnull().sum()"
   ]
  },
  {
   "cell_type": "markdown",
   "metadata": {},
   "source": [
    "We can see here that there is no missing value in the dataset, double check again with heatmap."
   ]
  },
  {
   "cell_type": "code",
   "execution_count": 13,
   "metadata": {},
   "outputs": [
    {
     "data": {
      "text/plain": [
       "<AxesSubplot:>"
      ]
     },
     "execution_count": 13,
     "metadata": {},
     "output_type": "execute_result"
    },
    {
     "data": {
      "image/png": "[encoded data removed]",
      "text/plain": [
       "<Figure size 1800x720 with 2 Axes>"
      ]
     },
     "metadata": {
      "needs_background": "light"
     },
     "output_type": "display_data"
    }
   ],
   "source": [
    "msno.matrix(myNewData)"
   ]
  },
  {
   "cell_type": "markdown",
   "metadata": {},
   "source": [
    "A missingno provides a small set of tools that contains flexible and easy-to-use missing data visualization and utilities, allowing you to quickly and intuitively understand the integrity of the dataset. In this data set, no missing values."
   ]
  },
  {
   "cell_type": "markdown",
   "metadata": {},
   "source": [
    "## Target label coding\n",
    "\n",
    "The column \"role\" and \"salary\" that is our goal is currently in the classified text. To convert categorical values ​​to numeric values, we use a label encoder because it is designed specifically for the purpose. low is set to 0, medium is set to 1, high is set to 2. In general, the purpose of tagging the target is to ensure that the modeling algorithm performs better in testing and prediction."
   ]
  },
  {
   "cell_type": "code",
   "execution_count": 14,
   "metadata": {},
   "outputs": [
    {
     "data": {
      "text/plain": [
       "7686     medium\n",
       "8988        low\n",
       "5850        low\n",
       "10600       low\n",
       "6207     medium\n",
       "          ...  \n",
       "1395     medium\n",
       "3273     medium\n",
       "4475     medium\n",
       "11969       low\n",
       "7952     medium\n",
       "Name: salary, Length: 13499, dtype: category\n",
       "Categories (3, object): ['high', 'low', 'medium']"
      ]
     },
     "execution_count": 14,
     "metadata": {},
     "output_type": "execute_result"
    }
   ],
   "source": [
    "myNewData['salary'].astype('category')"
   ]
  },
  {
   "cell_type": "code",
   "execution_count": 15,
   "metadata": {},
   "outputs": [
    {
     "data": {
      "text/plain": [
       "names                     object\n",
       "satisfaction_level       float64\n",
       "last_evaluation          float64\n",
       "number_project             int64\n",
       "average_montly_hours       int64\n",
       "time_spend_company         int64\n",
       "Work_accident              int64\n",
       "promotion_last_5years      int64\n",
       "role                      object\n",
       "salary                    object\n",
       "class                      int64\n",
       "dtype: object"
      ]
     },
     "execution_count": 15,
     "metadata": {},
     "output_type": "execute_result"
    }
   ],
   "source": [
    "myNewData.dtypes"
   ]
  },
  {
   "cell_type": "code",
   "execution_count": 16,
   "metadata": {},
   "outputs": [
    {
     "data": {
      "text/plain": [
       "array([2, 1, 0])"
      ]
     },
     "execution_count": 16,
     "metadata": {},
     "output_type": "execute_result"
    }
   ],
   "source": [
    "le = LabelEncoder()\n",
    "myNewData['salary'] = le.fit_transform(myNewData['salary'])\n",
    "myNewData['salary'].unique()"
   ]
  },
  {
   "cell_type": "markdown",
   "metadata": {},
   "source": [
    "## Detect outliers\n",
    "\n",
    "Outliers are the upper and lower extreme values ​​that are abnormally different from the rest of the data set. If you don't remove outliers, they destroy precision because some models (such as Logistic Regression and K-Nearest Neighbors) are very sensitive to outliers. Box plots are useful because they show outliers in the data set. Outliers are observations that have a value very far from the rest of the data. When viewing the box plot, outliers are defined as data points that lie outside the box plot whiskers.\n",
    "\n",
    "Before remove outliers:"
   ]
  },
  {
   "cell_type": "code",
   "execution_count": 17,
   "metadata": {},
   "outputs": [
    {
     "data": {
      "text/plain": [
       "<AxesSubplot:>"
      ]
     },
     "execution_count": 17,
     "metadata": {},
     "output_type": "execute_result"
    },
    {
     "data": {
      "image/png": "[encoded data removed]",
      "text/plain": [
       "<Figure size 432x288 with 1 Axes>"
      ]
     },
     "metadata": {
      "needs_background": "light"
     },
     "output_type": "display_data"
    }
   ],
   "source": [
    "sns.boxplot(data=myNewData)"
   ]
  },
  {
   "cell_type": "markdown",
   "metadata": {},
   "source": [
    "We can see that there are no outliers."
   ]
  },
  {
   "cell_type": "markdown",
   "metadata": {},
   "source": [
    "## Define feature and target"
   ]
  },
  {
   "cell_type": "markdown",
   "metadata": {},
   "source": [
    "This step is to prepare the dataset for the modeling and train test split.\n",
    "- Feature for this data is all feature except the 'names' column because this did not bring much info to the model and the target is Class"
   ]
  },
  {
   "cell_type": "code",
   "execution_count": 22,
   "metadata": {},
   "outputs": [],
   "source": [
    "X = myNewData.drop(['class', 'names', 'role'],axis=1)\n",
    "\n",
    "y = myNewData['class']"
   ]
  },
  {
   "cell_type": "code",
   "execution_count": 23,
   "metadata": {},
   "outputs": [
    {
     "name": "stdout",
     "output_type": "stream",
     "text": [
      "Feature\n",
      "        satisfaction_level  last_evaluation  number_project  \\\n",
      "7686                 0.67             0.92               4   \n",
      "8988                 0.96             0.93               3   \n",
      "5850                 0.83             0.75               3   \n",
      "10600                0.63             0.94               4   \n",
      "6207                 0.63             0.98               4   \n",
      "...                   ...              ...             ...   \n",
      "1395                 0.45             0.51               2   \n",
      "3273                 0.49             0.52               5   \n",
      "4475                 0.67             0.52               4   \n",
      "11969                0.60             0.85               3   \n",
      "7952                 0.41             0.56               2   \n",
      "\n",
      "       average_montly_hours  time_spend_company  Work_accident  \\\n",
      "7686                    156                   2              0   \n",
      "8988                    238                   2              0   \n",
      "5850                    150                   3              0   \n",
      "10600                   219                   3              0   \n",
      "6207                    210                   3              0   \n",
      "...                     ...                 ...            ...   \n",
      "1395                    156                   3              0   \n",
      "3273                    188                   4              0   \n",
      "4475                    262                   2              0   \n",
      "11969                   242                   2              0   \n",
      "7952                    121                   2              0   \n",
      "\n",
      "       promotion_last_5years  salary  \n",
      "7686                       0       2  \n",
      "8988                       0       1  \n",
      "5850                       0       1  \n",
      "10600                      0       1  \n",
      "6207                       0       2  \n",
      "...                      ...     ...  \n",
      "1395                       0       2  \n",
      "3273                       0       2  \n",
      "4475                       0       2  \n",
      "11969                      0       1  \n",
      "7952                       0       2  \n",
      "\n",
      "[13499 rows x 8 columns]\n",
      "Target\n",
      " 7686     0\n",
      "8988     0\n",
      "5850     0\n",
      "10600    0\n",
      "6207     0\n",
      "        ..\n",
      "1395     1\n",
      "3273     0\n",
      "4475     0\n",
      "11969    0\n",
      "7952     0\n",
      "Name: class, Length: 13499, dtype: int64\n"
     ]
    }
   ],
   "source": [
    "print(\"Feature\\n\",X)\n",
    "print(\"Target\\n\",y)"
   ]
  },
  {
   "cell_type": "code",
   "execution_count": 24,
   "metadata": {},
   "outputs": [],
   "source": [
    "#Train Test Split\n",
    "from sklearn.model_selection import train_test_split\n",
    "\n",
    "Xtrain, Xtest, Ytrain, Ytest = train_test_split(X, y, test_size=0.2, random_state= 50)"
   ]
  },
  {
   "cell_type": "markdown",
   "metadata": {},
   "source": [
    "Train test split are implemented  for estimating  the performance of machine learning  algorithms. \n",
    "Then, the ratio for the train data and test data that used for all models will be 80:20."
   ]
  },
  {
   "cell_type": "code",
   "execution_count": 28,
   "metadata": {},
   "outputs": [
    {
     "data": {
      "text/html": [
       "<div>\n",
       "<style scoped>\n",
       "    .dataframe tbody tr th:only-of-type {\n",
       "        vertical-align: middle;\n",
       "    }\n",
       "\n",
       "    .dataframe tbody tr th {\n",
       "        vertical-align: top;\n",
       "    }\n",
       "\n",
       "    .dataframe thead th {\n",
       "        text-align: right;\n",
       "    }\n",
       "</style>\n",
       "<table border=\"1\" class=\"dataframe\">\n",
       "  <thead>\n",
       "    <tr style=\"text-align: right;\">\n",
       "      <th></th>\n",
       "      <th>NULL</th>\n",
       "      <th>KNN</th>\n",
       "      <th>LogisticReg</th>\n",
       "      <th>RandForest</th>\n",
       "      <th>NaiveBayes</th>\n",
       "    </tr>\n",
       "  </thead>\n",
       "  <tbody>\n",
       "    <tr>\n",
       "      <th>accuracy</th>\n",
       "      <td>NaN</td>\n",
       "      <td>NaN</td>\n",
       "      <td>NaN</td>\n",
       "      <td>NaN</td>\n",
       "      <td>NaN</td>\n",
       "    </tr>\n",
       "    <tr>\n",
       "      <th>precision</th>\n",
       "      <td>NaN</td>\n",
       "      <td>NaN</td>\n",
       "      <td>NaN</td>\n",
       "      <td>NaN</td>\n",
       "      <td>NaN</td>\n",
       "    </tr>\n",
       "    <tr>\n",
       "      <th>recall</th>\n",
       "      <td>NaN</td>\n",
       "      <td>NaN</td>\n",
       "      <td>NaN</td>\n",
       "      <td>NaN</td>\n",
       "      <td>NaN</td>\n",
       "    </tr>\n",
       "  </tbody>\n",
       "</table>\n",
       "</div>"
      ],
      "text/plain": [
       "          NULL  KNN LogisticReg RandForest NaiveBayes\n",
       "accuracy   NaN  NaN         NaN        NaN        NaN\n",
       "precision  NaN  NaN         NaN        NaN        NaN\n",
       "recall     NaN  NaN         NaN        NaN        NaN"
      ]
     },
     "execution_count": 28,
     "metadata": {},
     "output_type": "execute_result"
    }
   ],
   "source": [
    "metrics=pd.DataFrame(index=['accuracy','precision', 'recall'],\n",
    "             columns=['NULL','KNN','LogisticReg','RandForest','NaiveBayes'])\n",
    "metrics"
   ]
  },
  {
   "cell_type": "markdown",
   "metadata": {},
   "source": [
    "## Standardizing the data \n",
    "\n",
    "Standardization helps to scale down the features based on standard normal distribution.The standardized values are 0-1 because the mean is usually 0 and standard deviation is usually 1."
   ]
  },
  {
   "cell_type": "code",
   "execution_count": 140,
   "metadata": {},
   "outputs": [],
   "source": [
    "#Train test split\n",
    "scaler = StandardScaler()\n",
    "X_train, X_test, y_train, y_test= train_test_split(X, y, test_size= 0.2, random_state=2)\n",
    "X_train_standardized = scaler.fit_transform(X_train)\n",
    "X_test_standardized = scaler.transform(X_test)"
   ]
  },
  {
   "cell_type": "code",
   "execution_count": 32,
   "metadata": {},
   "outputs": [
    {
     "name": "stdout",
     "output_type": "stream",
     "text": [
      "After standardization:\n",
      "\n",
      "               precision    recall  f1-score   support\n",
      "\n",
      "           0       0.97      0.97      0.97      2053\n",
      "           1       0.92      0.90      0.91       647\n",
      "\n",
      "    accuracy                           0.96      2700\n",
      "   macro avg       0.94      0.94      0.94      2700\n",
      "weighted avg       0.96      0.96      0.96      2700\n",
      "\n"
     ]
    }
   ],
   "source": [
    "neigh = KNeighborsClassifier(n_neighbors=10)\n",
    "neigh.fit(X_train_standardized,y_train)\n",
    "\n",
    "y_pred_test=neigh.predict(X_test_standardized)\n",
    "metrics.loc['accuracy', 'NULL'] = accuracy_score(y_pred=y_pred_test,y_true=y_test)\n",
    "metrics.loc['precision', 'NULL'] = precision_score(y_pred=y_pred_test,y_true=y_test)\n",
    "metrics.loc['recall', 'NULL'] = recall_score(y_pred=y_pred_test,y_true=y_test)\n",
    "print(\"After standardization:\\n\\n\",classification_report(y_test,y_pred_test))\n",
    "standard =classification_report(y_test,y_pred_test)"
   ]
  },
  {
   "cell_type": "markdown",
   "metadata": {},
   "source": [
    "## Normalization\n",
    "\n",
    "Normalization helps to scale down the features between 0-1."
   ]
  },
  {
   "cell_type": "code",
   "execution_count": 33,
   "metadata": {},
   "outputs": [],
   "source": [
    "#Train test split\n",
    "scaler = MinMaxScaler()\n",
    "X_train, X_test, y_train, y_test= train_test_split(X, y, test_size= 0.2, random_state=2)\n",
    "X_train_scaled = scaler.fit_transform(X_train)\n",
    "X_test_scaled = scaler.transform(X_test)\n"
   ]
  },
  {
   "cell_type": "code",
   "execution_count": 34,
   "metadata": {},
   "outputs": [
    {
     "name": "stdout",
     "output_type": "stream",
     "text": [
      "After normalization:\n",
      "\n",
      "               precision    recall  f1-score   support\n",
      "\n",
      "           0       0.97      0.98      0.97      2053\n",
      "           1       0.92      0.90      0.91       647\n",
      "\n",
      "    accuracy                           0.96      2700\n",
      "   macro avg       0.95      0.94      0.94      2700\n",
      "weighted avg       0.96      0.96      0.96      2700\n",
      "\n"
     ]
    }
   ],
   "source": [
    "neigh = KNeighborsClassifier(n_neighbors=10)\n",
    "\n",
    "neigh.fit(X_train_scaled,y_train)\n",
    "\n",
    "y_pred_test=neigh.predict(X_test_scaled)\n",
    "metrics.loc['accuracy', 'KNN'] = accuracy_score(y_pred=y_pred_test,y_true=y_test)\n",
    "metrics.loc['precision', 'KNN'] = precision_score(y_pred=y_pred_test,y_true=y_test)\n",
    "metrics.loc['recall', 'KNN'] = recall_score(y_pred=y_pred_test,y_true=y_test)\n",
    "print(\"After normalization:\\n\\n\",classification_report(y_test,y_pred_test))\n",
    "standard =classification_report(y_test,y_pred_test)"
   ]
  },
  {
   "cell_type": "markdown",
   "metadata": {},
   "source": [
    "By referring to the two images shown above after Standardizing and Normalizing, it is seen that both results are totally the same for precision, recall, f1-score and support. Therefore, it can be concluded that the features in the dataset are well-defined to be used whether by standardizing or normalizing."
   ]
  },
  {
   "cell_type": "code",
   "execution_count": 37,
   "metadata": {},
   "outputs": [
    {
     "data": {
      "text/plain": [
       "7686         support\n",
       "8988       technical\n",
       "5850         support\n",
       "10600    product_mng\n",
       "6207           sales\n",
       "            ...     \n",
       "1395           sales\n",
       "3273     product_mng\n",
       "4475         support\n",
       "11969             IT\n",
       "7952           sales\n",
       "Name: role, Length: 13499, dtype: category\n",
       "Categories (10, object): ['IT', 'RandD', 'accounting', 'hr', ..., 'product_mng', 'sales', 'support', 'technical']"
      ]
     },
     "execution_count": 37,
     "metadata": {},
     "output_type": "execute_result"
    }
   ],
   "source": [
    "myNewData['role'].astype('category')"
   ]
  },
  {
   "cell_type": "code",
   "execution_count": 38,
   "metadata": {},
   "outputs": [
    {
     "data": {
      "text/plain": [
       "names                     object\n",
       "satisfaction_level       float64\n",
       "last_evaluation          float64\n",
       "number_project             int64\n",
       "average_montly_hours       int64\n",
       "time_spend_company         int64\n",
       "Work_accident              int64\n",
       "promotion_last_5years      int64\n",
       "role                      object\n",
       "salary                     int32\n",
       "class                      int64\n",
       "dtype: object"
      ]
     },
     "execution_count": 38,
     "metadata": {},
     "output_type": "execute_result"
    }
   ],
   "source": [
    "myNewData.dtypes"
   ]
  },
  {
   "cell_type": "code",
   "execution_count": 40,
   "metadata": {},
   "outputs": [
    {
     "data": {
      "text/html": [
       "<div>\n",
       "<style scoped>\n",
       "    .dataframe tbody tr th:only-of-type {\n",
       "        vertical-align: middle;\n",
       "    }\n",
       "\n",
       "    .dataframe tbody tr th {\n",
       "        vertical-align: top;\n",
       "    }\n",
       "\n",
       "    .dataframe thead th {\n",
       "        text-align: right;\n",
       "    }\n",
       "</style>\n",
       "<table border=\"1\" class=\"dataframe\">\n",
       "  <thead>\n",
       "    <tr style=\"text-align: right;\">\n",
       "      <th></th>\n",
       "      <th>names</th>\n",
       "      <th>satisfaction_level</th>\n",
       "      <th>last_evaluation</th>\n",
       "      <th>number_project</th>\n",
       "      <th>average_montly_hours</th>\n",
       "      <th>time_spend_company</th>\n",
       "      <th>Work_accident</th>\n",
       "      <th>promotion_last_5years</th>\n",
       "      <th>role</th>\n",
       "      <th>salary</th>\n",
       "      <th>class</th>\n",
       "    </tr>\n",
       "  </thead>\n",
       "  <tbody>\n",
       "    <tr>\n",
       "      <th>7686</th>\n",
       "      <td>Melissa Thompson</td>\n",
       "      <td>0.67</td>\n",
       "      <td>0.92</td>\n",
       "      <td>4</td>\n",
       "      <td>156</td>\n",
       "      <td>2</td>\n",
       "      <td>0</td>\n",
       "      <td>0</td>\n",
       "      <td>support</td>\n",
       "      <td>2</td>\n",
       "      <td>0</td>\n",
       "    </tr>\n",
       "    <tr>\n",
       "      <th>8988</th>\n",
       "      <td>Beverly Valencia</td>\n",
       "      <td>0.96</td>\n",
       "      <td>0.93</td>\n",
       "      <td>3</td>\n",
       "      <td>238</td>\n",
       "      <td>2</td>\n",
       "      <td>0</td>\n",
       "      <td>0</td>\n",
       "      <td>technical</td>\n",
       "      <td>1</td>\n",
       "      <td>0</td>\n",
       "    </tr>\n",
       "    <tr>\n",
       "      <th>5850</th>\n",
       "      <td>George Graham</td>\n",
       "      <td>0.83</td>\n",
       "      <td>0.75</td>\n",
       "      <td>3</td>\n",
       "      <td>150</td>\n",
       "      <td>3</td>\n",
       "      <td>0</td>\n",
       "      <td>0</td>\n",
       "      <td>support</td>\n",
       "      <td>1</td>\n",
       "      <td>0</td>\n",
       "    </tr>\n",
       "    <tr>\n",
       "      <th>10600</th>\n",
       "      <td>Matthew Stuart</td>\n",
       "      <td>0.63</td>\n",
       "      <td>0.94</td>\n",
       "      <td>4</td>\n",
       "      <td>219</td>\n",
       "      <td>3</td>\n",
       "      <td>0</td>\n",
       "      <td>0</td>\n",
       "      <td>product_mng</td>\n",
       "      <td>1</td>\n",
       "      <td>0</td>\n",
       "    </tr>\n",
       "    <tr>\n",
       "      <th>6207</th>\n",
       "      <td>Jennifer White</td>\n",
       "      <td>0.63</td>\n",
       "      <td>0.98</td>\n",
       "      <td>4</td>\n",
       "      <td>210</td>\n",
       "      <td>3</td>\n",
       "      <td>0</td>\n",
       "      <td>0</td>\n",
       "      <td>sales</td>\n",
       "      <td>2</td>\n",
       "      <td>0</td>\n",
       "    </tr>\n",
       "    <tr>\n",
       "      <th>...</th>\n",
       "      <td>...</td>\n",
       "      <td>...</td>\n",
       "      <td>...</td>\n",
       "      <td>...</td>\n",
       "      <td>...</td>\n",
       "      <td>...</td>\n",
       "      <td>...</td>\n",
       "      <td>...</td>\n",
       "      <td>...</td>\n",
       "      <td>...</td>\n",
       "      <td>...</td>\n",
       "    </tr>\n",
       "    <tr>\n",
       "      <th>1395</th>\n",
       "      <td>Yvette Lively</td>\n",
       "      <td>0.45</td>\n",
       "      <td>0.51</td>\n",
       "      <td>2</td>\n",
       "      <td>156</td>\n",
       "      <td>3</td>\n",
       "      <td>0</td>\n",
       "      <td>0</td>\n",
       "      <td>sales</td>\n",
       "      <td>2</td>\n",
       "      <td>1</td>\n",
       "    </tr>\n",
       "    <tr>\n",
       "      <th>3273</th>\n",
       "      <td>Maria Scott</td>\n",
       "      <td>0.49</td>\n",
       "      <td>0.52</td>\n",
       "      <td>5</td>\n",
       "      <td>188</td>\n",
       "      <td>4</td>\n",
       "      <td>0</td>\n",
       "      <td>0</td>\n",
       "      <td>product_mng</td>\n",
       "      <td>2</td>\n",
       "      <td>0</td>\n",
       "    </tr>\n",
       "    <tr>\n",
       "      <th>4475</th>\n",
       "      <td>Robert Morgan</td>\n",
       "      <td>0.67</td>\n",
       "      <td>0.52</td>\n",
       "      <td>4</td>\n",
       "      <td>262</td>\n",
       "      <td>2</td>\n",
       "      <td>0</td>\n",
       "      <td>0</td>\n",
       "      <td>support</td>\n",
       "      <td>2</td>\n",
       "      <td>0</td>\n",
       "    </tr>\n",
       "    <tr>\n",
       "      <th>11969</th>\n",
       "      <td>Evan Dennard</td>\n",
       "      <td>0.60</td>\n",
       "      <td>0.85</td>\n",
       "      <td>3</td>\n",
       "      <td>242</td>\n",
       "      <td>2</td>\n",
       "      <td>0</td>\n",
       "      <td>0</td>\n",
       "      <td>IT</td>\n",
       "      <td>1</td>\n",
       "      <td>0</td>\n",
       "    </tr>\n",
       "    <tr>\n",
       "      <th>7952</th>\n",
       "      <td>Kassandra Noe</td>\n",
       "      <td>0.41</td>\n",
       "      <td>0.56</td>\n",
       "      <td>2</td>\n",
       "      <td>121</td>\n",
       "      <td>2</td>\n",
       "      <td>0</td>\n",
       "      <td>0</td>\n",
       "      <td>sales</td>\n",
       "      <td>2</td>\n",
       "      <td>0</td>\n",
       "    </tr>\n",
       "  </tbody>\n",
       "</table>\n",
       "<p>13499 rows × 11 columns</p>\n",
       "</div>"
      ],
      "text/plain": [
       "                  names  satisfaction_level  last_evaluation  number_project  \\\n",
       "7686   Melissa Thompson                0.67             0.92               4   \n",
       "8988   Beverly Valencia                0.96             0.93               3   \n",
       "5850      George Graham                0.83             0.75               3   \n",
       "10600    Matthew Stuart                0.63             0.94               4   \n",
       "6207     Jennifer White                0.63             0.98               4   \n",
       "...                 ...                 ...              ...             ...   \n",
       "1395      Yvette Lively                0.45             0.51               2   \n",
       "3273        Maria Scott                0.49             0.52               5   \n",
       "4475      Robert Morgan                0.67             0.52               4   \n",
       "11969      Evan Dennard                0.60             0.85               3   \n",
       "7952      Kassandra Noe                0.41             0.56               2   \n",
       "\n",
       "       average_montly_hours  time_spend_company  Work_accident  \\\n",
       "7686                    156                   2              0   \n",
       "8988                    238                   2              0   \n",
       "5850                    150                   3              0   \n",
       "10600                   219                   3              0   \n",
       "6207                    210                   3              0   \n",
       "...                     ...                 ...            ...   \n",
       "1395                    156                   3              0   \n",
       "3273                    188                   4              0   \n",
       "4475                    262                   2              0   \n",
       "11969                   242                   2              0   \n",
       "7952                    121                   2              0   \n",
       "\n",
       "       promotion_last_5years         role  salary  class  \n",
       "7686                       0      support       2      0  \n",
       "8988                       0    technical       1      0  \n",
       "5850                       0      support       1      0  \n",
       "10600                      0  product_mng       1      0  \n",
       "6207                       0        sales       2      0  \n",
       "...                      ...          ...     ...    ...  \n",
       "1395                       0        sales       2      1  \n",
       "3273                       0  product_mng       2      0  \n",
       "4475                       0      support       2      0  \n",
       "11969                      0           IT       1      0  \n",
       "7952                       0        sales       2      0  \n",
       "\n",
       "[13499 rows x 11 columns]"
      ]
     },
     "execution_count": 40,
     "metadata": {},
     "output_type": "execute_result"
    }
   ],
   "source": [
    "myNewData"
   ]
  },
  {
   "cell_type": "code",
   "execution_count": 43,
   "metadata": {},
   "outputs": [
    {
     "data": {
      "text/html": [
       "<div>\n",
       "<style scoped>\n",
       "    .dataframe tbody tr th:only-of-type {\n",
       "        vertical-align: middle;\n",
       "    }\n",
       "\n",
       "    .dataframe tbody tr th {\n",
       "        vertical-align: top;\n",
       "    }\n",
       "\n",
       "    .dataframe thead th {\n",
       "        text-align: right;\n",
       "    }\n",
       "</style>\n",
       "<table border=\"1\" class=\"dataframe\">\n",
       "  <thead>\n",
       "    <tr style=\"text-align: right;\">\n",
       "      <th></th>\n",
       "      <th>satisfaction_level</th>\n",
       "      <th>last_evaluation</th>\n",
       "      <th>number_project</th>\n",
       "      <th>average_montly_hours</th>\n",
       "      <th>time_spend_company</th>\n",
       "      <th>Work_accident</th>\n",
       "      <th>promotion_last_5years</th>\n",
       "      <th>salary</th>\n",
       "      <th>0</th>\n",
       "      <th>1</th>\n",
       "      <th>2</th>\n",
       "      <th>3</th>\n",
       "      <th>4</th>\n",
       "      <th>5</th>\n",
       "      <th>6</th>\n",
       "      <th>7</th>\n",
       "      <th>8</th>\n",
       "      <th>9</th>\n",
       "    </tr>\n",
       "  </thead>\n",
       "  <tbody>\n",
       "    <tr>\n",
       "      <th>7686</th>\n",
       "      <td>0.67</td>\n",
       "      <td>0.92</td>\n",
       "      <td>4</td>\n",
       "      <td>156</td>\n",
       "      <td>2</td>\n",
       "      <td>0</td>\n",
       "      <td>0</td>\n",
       "      <td>2</td>\n",
       "      <td>0.0</td>\n",
       "      <td>0.0</td>\n",
       "      <td>0.0</td>\n",
       "      <td>0.0</td>\n",
       "      <td>0.0</td>\n",
       "      <td>0.0</td>\n",
       "      <td>0.0</td>\n",
       "      <td>1.0</td>\n",
       "      <td>0.0</td>\n",
       "      <td>0.0</td>\n",
       "    </tr>\n",
       "    <tr>\n",
       "      <th>8988</th>\n",
       "      <td>0.96</td>\n",
       "      <td>0.93</td>\n",
       "      <td>3</td>\n",
       "      <td>238</td>\n",
       "      <td>2</td>\n",
       "      <td>0</td>\n",
       "      <td>0</td>\n",
       "      <td>1</td>\n",
       "      <td>0.0</td>\n",
       "      <td>0.0</td>\n",
       "      <td>1.0</td>\n",
       "      <td>0.0</td>\n",
       "      <td>0.0</td>\n",
       "      <td>0.0</td>\n",
       "      <td>0.0</td>\n",
       "      <td>0.0</td>\n",
       "      <td>0.0</td>\n",
       "      <td>0.0</td>\n",
       "    </tr>\n",
       "    <tr>\n",
       "      <th>5850</th>\n",
       "      <td>0.83</td>\n",
       "      <td>0.75</td>\n",
       "      <td>3</td>\n",
       "      <td>150</td>\n",
       "      <td>3</td>\n",
       "      <td>0</td>\n",
       "      <td>0</td>\n",
       "      <td>1</td>\n",
       "      <td>0.0</td>\n",
       "      <td>0.0</td>\n",
       "      <td>0.0</td>\n",
       "      <td>0.0</td>\n",
       "      <td>0.0</td>\n",
       "      <td>0.0</td>\n",
       "      <td>1.0</td>\n",
       "      <td>0.0</td>\n",
       "      <td>0.0</td>\n",
       "      <td>0.0</td>\n",
       "    </tr>\n",
       "    <tr>\n",
       "      <th>10600</th>\n",
       "      <td>0.63</td>\n",
       "      <td>0.94</td>\n",
       "      <td>4</td>\n",
       "      <td>219</td>\n",
       "      <td>3</td>\n",
       "      <td>0</td>\n",
       "      <td>0</td>\n",
       "      <td>1</td>\n",
       "      <td>0.0</td>\n",
       "      <td>0.0</td>\n",
       "      <td>0.0</td>\n",
       "      <td>0.0</td>\n",
       "      <td>0.0</td>\n",
       "      <td>0.0</td>\n",
       "      <td>0.0</td>\n",
       "      <td>0.0</td>\n",
       "      <td>1.0</td>\n",
       "      <td>0.0</td>\n",
       "    </tr>\n",
       "    <tr>\n",
       "      <th>6207</th>\n",
       "      <td>0.63</td>\n",
       "      <td>0.98</td>\n",
       "      <td>4</td>\n",
       "      <td>210</td>\n",
       "      <td>3</td>\n",
       "      <td>0</td>\n",
       "      <td>0</td>\n",
       "      <td>2</td>\n",
       "      <td>0.0</td>\n",
       "      <td>0.0</td>\n",
       "      <td>1.0</td>\n",
       "      <td>0.0</td>\n",
       "      <td>0.0</td>\n",
       "      <td>0.0</td>\n",
       "      <td>0.0</td>\n",
       "      <td>0.0</td>\n",
       "      <td>0.0</td>\n",
       "      <td>0.0</td>\n",
       "    </tr>\n",
       "    <tr>\n",
       "      <th>...</th>\n",
       "      <td>...</td>\n",
       "      <td>...</td>\n",
       "      <td>...</td>\n",
       "      <td>...</td>\n",
       "      <td>...</td>\n",
       "      <td>...</td>\n",
       "      <td>...</td>\n",
       "      <td>...</td>\n",
       "      <td>...</td>\n",
       "      <td>...</td>\n",
       "      <td>...</td>\n",
       "      <td>...</td>\n",
       "      <td>...</td>\n",
       "      <td>...</td>\n",
       "      <td>...</td>\n",
       "      <td>...</td>\n",
       "      <td>...</td>\n",
       "      <td>...</td>\n",
       "    </tr>\n",
       "    <tr>\n",
       "      <th>1395</th>\n",
       "      <td>0.45</td>\n",
       "      <td>0.51</td>\n",
       "      <td>2</td>\n",
       "      <td>156</td>\n",
       "      <td>3</td>\n",
       "      <td>0</td>\n",
       "      <td>0</td>\n",
       "      <td>2</td>\n",
       "      <td>0.0</td>\n",
       "      <td>1.0</td>\n",
       "      <td>0.0</td>\n",
       "      <td>0.0</td>\n",
       "      <td>0.0</td>\n",
       "      <td>0.0</td>\n",
       "      <td>0.0</td>\n",
       "      <td>0.0</td>\n",
       "      <td>0.0</td>\n",
       "      <td>0.0</td>\n",
       "    </tr>\n",
       "    <tr>\n",
       "      <th>3273</th>\n",
       "      <td>0.49</td>\n",
       "      <td>0.52</td>\n",
       "      <td>5</td>\n",
       "      <td>188</td>\n",
       "      <td>4</td>\n",
       "      <td>0</td>\n",
       "      <td>0</td>\n",
       "      <td>2</td>\n",
       "      <td>0.0</td>\n",
       "      <td>0.0</td>\n",
       "      <td>0.0</td>\n",
       "      <td>0.0</td>\n",
       "      <td>0.0</td>\n",
       "      <td>1.0</td>\n",
       "      <td>0.0</td>\n",
       "      <td>0.0</td>\n",
       "      <td>0.0</td>\n",
       "      <td>0.0</td>\n",
       "    </tr>\n",
       "    <tr>\n",
       "      <th>4475</th>\n",
       "      <td>0.67</td>\n",
       "      <td>0.52</td>\n",
       "      <td>4</td>\n",
       "      <td>262</td>\n",
       "      <td>2</td>\n",
       "      <td>0</td>\n",
       "      <td>0</td>\n",
       "      <td>2</td>\n",
       "      <td>0.0</td>\n",
       "      <td>0.0</td>\n",
       "      <td>0.0</td>\n",
       "      <td>0.0</td>\n",
       "      <td>1.0</td>\n",
       "      <td>0.0</td>\n",
       "      <td>0.0</td>\n",
       "      <td>0.0</td>\n",
       "      <td>0.0</td>\n",
       "      <td>0.0</td>\n",
       "    </tr>\n",
       "    <tr>\n",
       "      <th>11969</th>\n",
       "      <td>0.60</td>\n",
       "      <td>0.85</td>\n",
       "      <td>3</td>\n",
       "      <td>242</td>\n",
       "      <td>2</td>\n",
       "      <td>0</td>\n",
       "      <td>0</td>\n",
       "      <td>1</td>\n",
       "      <td>0.0</td>\n",
       "      <td>0.0</td>\n",
       "      <td>0.0</td>\n",
       "      <td>0.0</td>\n",
       "      <td>0.0</td>\n",
       "      <td>0.0</td>\n",
       "      <td>0.0</td>\n",
       "      <td>1.0</td>\n",
       "      <td>0.0</td>\n",
       "      <td>0.0</td>\n",
       "    </tr>\n",
       "    <tr>\n",
       "      <th>7952</th>\n",
       "      <td>0.41</td>\n",
       "      <td>0.56</td>\n",
       "      <td>2</td>\n",
       "      <td>121</td>\n",
       "      <td>2</td>\n",
       "      <td>0</td>\n",
       "      <td>0</td>\n",
       "      <td>2</td>\n",
       "      <td>0.0</td>\n",
       "      <td>0.0</td>\n",
       "      <td>0.0</td>\n",
       "      <td>0.0</td>\n",
       "      <td>0.0</td>\n",
       "      <td>0.0</td>\n",
       "      <td>0.0</td>\n",
       "      <td>1.0</td>\n",
       "      <td>0.0</td>\n",
       "      <td>0.0</td>\n",
       "    </tr>\n",
       "  </tbody>\n",
       "</table>\n",
       "<p>13499 rows × 18 columns</p>\n",
       "</div>"
      ],
      "text/plain": [
       "       satisfaction_level  last_evaluation  number_project  \\\n",
       "7686                 0.67             0.92               4   \n",
       "8988                 0.96             0.93               3   \n",
       "5850                 0.83             0.75               3   \n",
       "10600                0.63             0.94               4   \n",
       "6207                 0.63             0.98               4   \n",
       "...                   ...              ...             ...   \n",
       "1395                 0.45             0.51               2   \n",
       "3273                 0.49             0.52               5   \n",
       "4475                 0.67             0.52               4   \n",
       "11969                0.60             0.85               3   \n",
       "7952                 0.41             0.56               2   \n",
       "\n",
       "       average_montly_hours  time_spend_company  Work_accident  \\\n",
       "7686                    156                   2              0   \n",
       "8988                    238                   2              0   \n",
       "5850                    150                   3              0   \n",
       "10600                   219                   3              0   \n",
       "6207                    210                   3              0   \n",
       "...                     ...                 ...            ...   \n",
       "1395                    156                   3              0   \n",
       "3273                    188                   4              0   \n",
       "4475                    262                   2              0   \n",
       "11969                   242                   2              0   \n",
       "7952                    121                   2              0   \n",
       "\n",
       "       promotion_last_5years  salary    0    1    2    3    4    5    6    7  \\\n",
       "7686                       0       2  0.0  0.0  0.0  0.0  0.0  0.0  0.0  1.0   \n",
       "8988                       0       1  0.0  0.0  1.0  0.0  0.0  0.0  0.0  0.0   \n",
       "5850                       0       1  0.0  0.0  0.0  0.0  0.0  0.0  1.0  0.0   \n",
       "10600                      0       1  0.0  0.0  0.0  0.0  0.0  0.0  0.0  0.0   \n",
       "6207                       0       2  0.0  0.0  1.0  0.0  0.0  0.0  0.0  0.0   \n",
       "...                      ...     ...  ...  ...  ...  ...  ...  ...  ...  ...   \n",
       "1395                       0       2  0.0  1.0  0.0  0.0  0.0  0.0  0.0  0.0   \n",
       "3273                       0       2  0.0  0.0  0.0  0.0  0.0  1.0  0.0  0.0   \n",
       "4475                       0       2  0.0  0.0  0.0  0.0  1.0  0.0  0.0  0.0   \n",
       "11969                      0       1  0.0  0.0  0.0  0.0  0.0  0.0  0.0  1.0   \n",
       "7952                       0       2  0.0  0.0  0.0  0.0  0.0  0.0  0.0  1.0   \n",
       "\n",
       "         8    9  \n",
       "7686   0.0  0.0  \n",
       "8988   0.0  0.0  \n",
       "5850   0.0  0.0  \n",
       "10600  1.0  0.0  \n",
       "6207   0.0  0.0  \n",
       "...    ...  ...  \n",
       "1395   0.0  0.0  \n",
       "3273   0.0  0.0  \n",
       "4475   0.0  0.0  \n",
       "11969  0.0  0.0  \n",
       "7952   0.0  0.0  \n",
       "\n",
       "[13499 rows x 18 columns]"
      ]
     },
     "execution_count": 43,
     "metadata": {},
     "output_type": "execute_result"
    }
   ],
   "source": [
    "# creating instance of one-hot-encoder\n",
    "enc = OneHotEncoder(handle_unknown='ignore')\n",
    "# passing bridge-types-cat column (label encoded values of bridge_types)\n",
    "enc_df = pd.DataFrame(enc.fit_transform(myNewData[['role']]).toarray())\n",
    "# merge with main df bridge_df on key values\n",
    "df_encoded = X.join(enc_df)\n",
    "df_encoded"
   ]
  },
  {
   "cell_type": "markdown",
   "metadata": {},
   "source": [
    "# Data Modelling "
   ]
  },
  {
   "cell_type": "code",
   "execution_count": 44,
   "metadata": {},
   "outputs": [
    {
     "name": "stdout",
     "output_type": "stream",
     "text": [
      "\n",
      "\t\tK-Nearest Neighbors Classifier\n",
      "\n",
      "               precision    recall  f1-score   support\n",
      "\n",
      "           0     0.9696    0.9724    0.9710      2063\n",
      "           1     0.9097    0.9011    0.9054       637\n",
      "\n",
      "    accuracy                         0.9556      2700\n",
      "   macro avg     0.9396    0.9367    0.9382      2700\n",
      "weighted avg     0.9554    0.9556    0.9555      2700\n",
      "\n"
     ]
    }
   ],
   "source": [
    "#KNN\n",
    "from sklearn.neighbors import KNeighborsClassifier\n",
    "\n",
    "knn = KNeighborsClassifier(n_neighbors=10)\n",
    "knn.fit(Xtrain, Ytrain)\n",
    "y_knn = knn.predict(Xtest)\n",
    "\n",
    "print('\\n\\t\\tK-Nearest Neighbors Classifier\\n\\n', classification_report(Ytest, y_knn, digits=4))"
   ]
  },
  {
   "cell_type": "code",
   "execution_count": 45,
   "metadata": {},
   "outputs": [
    {
     "name": "stdout",
     "output_type": "stream",
     "text": [
      "\n",
      "\t\tGaussian Naive Bayes Classifier\n",
      "\n",
      "               precision    recall  f1-score   support\n",
      "\n",
      "           0     0.9099    0.8080    0.8560      2063\n",
      "           1     0.5438    0.7410    0.6272       637\n",
      "\n",
      "    accuracy                         0.7922      2700\n",
      "   macro avg     0.7269    0.7745    0.7416      2700\n",
      "weighted avg     0.8235    0.7922    0.8020      2700\n",
      "\n"
     ]
    }
   ],
   "source": [
    "#Gaussian Naive Bayes Classifier\n",
    "from sklearn.naive_bayes import GaussianNB\n",
    "\n",
    "gnb = GaussianNB()\n",
    "gnb.fit(Xtrain, Ytrain)\n",
    "y_gnb = gnb.predict(Xtest)\n",
    "\n",
    "print('\\n\\t\\tGaussian Naive Bayes Classifier\\n\\n', classification_report(Ytest, y_gnb, digits=4))"
   ]
  },
  {
   "cell_type": "code",
   "execution_count": 46,
   "metadata": {},
   "outputs": [
    {
     "name": "stdout",
     "output_type": "stream",
     "text": [
      "\n",
      "\t\tLogistic Regression\n",
      "\n",
      "               precision    recall  f1-score   support\n",
      "\n",
      "           0     0.8008    0.9292    0.8602      2063\n",
      "           1     0.5229    0.2512    0.3393       637\n",
      "\n",
      "    accuracy                         0.7693      2700\n",
      "   macro avg     0.6618    0.5902    0.5998      2700\n",
      "weighted avg     0.7352    0.7693    0.7373      2700\n",
      "\n"
     ]
    }
   ],
   "source": [
    "# Logistic Regression\n",
    "from sklearn.linear_model import LogisticRegression\n",
    "\n",
    "lr = LogisticRegression()\n",
    "lr.fit(Xtrain, Ytrain)\n",
    "y_lr = lr.predict(Xtest)\n",
    "\n",
    "print('\\n\\t\\tLogistic Regression\\n\\n', classification_report(Ytest, y_lr, digits=4))"
   ]
  },
  {
   "cell_type": "code",
   "execution_count": 47,
   "metadata": {},
   "outputs": [
    {
     "name": "stdout",
     "output_type": "stream",
     "text": [
      "\n",
      "\t\tRandom Forest Classifier\n",
      "\n",
      "               precision    recall  f1-score   support\n",
      "\n",
      "           0     0.9856    0.9956    0.9906      2063\n",
      "           1     0.9854    0.9529    0.9689       637\n",
      "\n",
      "    accuracy                         0.9856      2700\n",
      "   macro avg     0.9855    0.9743    0.9797      2700\n",
      "weighted avg     0.9856    0.9856    0.9855      2700\n",
      "\n"
     ]
    }
   ],
   "source": [
    "# Random Forest Classification\n",
    "from sklearn.ensemble import RandomForestClassifier\n",
    "\n",
    "rf = RandomForestClassifier(random_state=67)\n",
    "rf.fit(Xtrain, Ytrain)\n",
    "y_rf = rf.predict(Xtest)\n",
    "\n",
    "print('\\n\\t\\tRandom Forest Classifier\\n\\n', classification_report(Ytest, y_rf, digits=4))"
   ]
  },
  {
   "cell_type": "code",
   "execution_count": 48,
   "metadata": {},
   "outputs": [
    {
     "name": "stdout",
     "output_type": "stream",
     "text": [
      "\n",
      "\t\tDecission tree Classifier\n",
      "\n",
      "               precision    recall  f1-score   support\n",
      "\n",
      "           0     0.9731    0.9651    0.9691      2063\n",
      "           1     0.8899    0.9137    0.9016       637\n",
      "\n",
      "    accuracy                         0.9530      2700\n",
      "   macro avg     0.9315    0.9394    0.9354      2700\n",
      "weighted avg     0.9535    0.9530    0.9532      2700\n",
      "\n"
     ]
    }
   ],
   "source": [
    "# Decision Tree\n",
    "from sklearn.tree import DecisionTreeClassifier\n",
    "\n",
    "dt = DecisionTreeClassifier(max_depth=3)\n",
    "dt.fit(Xtrain, Ytrain)\n",
    "y_dt = dt.predict(Xtest)\n",
    "\n",
    "print('\\n\\t\\tDecission tree Classifier\\n\\n', classification_report(Ytest, y_dt, digits=4))"
   ]
  },
  {
   "cell_type": "code",
   "execution_count": 49,
   "metadata": {},
   "outputs": [
    {
     "name": "stdout",
     "output_type": "stream",
     "text": [
      "\n",
      "\t\tLinear Discriminant Analysis\n",
      "\n",
      "               precision    recall  f1-score   support\n",
      "\n",
      "           0     0.8012    0.9200    0.8565      2063\n",
      "           1     0.5015    0.2606    0.3430       637\n",
      "\n",
      "    accuracy                         0.7644      2700\n",
      "   macro avg     0.6513    0.5903    0.5997      2700\n",
      "weighted avg     0.7305    0.7644    0.7353      2700\n",
      "\n"
     ]
    }
   ],
   "source": [
    "# Linear Discriminant Analysis\n",
    "from sklearn.discriminant_analysis import LinearDiscriminantAnalysis\n",
    "\n",
    "lda = LinearDiscriminantAnalysis()\n",
    "lda.fit(Xtrain, Ytrain)\n",
    "y_lda = lda.predict(Xtest)\n",
    "\n",
    "print('\\n\\t\\tLinear Discriminant Analysis\\n\\n', classification_report(Ytest, y_lda,digits=4 ))"
   ]
  },
  {
   "cell_type": "code",
   "execution_count": 141,
   "metadata": {},
   "outputs": [
    {
     "data": {
      "image/png": "[encoded data removed]",
      "text/plain": [
       "<Figure size 432x288 with 1 Axes>"
      ]
     },
     "metadata": {
      "needs_background": "light"
     },
     "output_type": "display_data"
    }
   ],
   "source": [
    "# Precision\n",
    "import matplotlib.pyplot as plt \n",
    "fig = plt.figure()\n",
    "ax = fig.add_axes([0,0,1,1])\n",
    "classifications = ['KNN', 'GNB', ' LR', 'RFC', 'DT', ' LD'] \n",
    "weight = [0.9554,0.8235,0.7352,0.9856,0.9535,0.7305]\n",
    "bar_plot = ax.bar(classifications,weight) \n",
    "ax.set_ylabel('Weighted Average Score') \n",
    "ax.set_title('Precision')\n",
    "\n",
    "def autolabel(rects):\n",
    "    for idx,rect in enumerate(bar_plot): \n",
    "        height = rect.get_height()\n",
    "        ax.text(rect.get_x() + rect.get_width()/2., 1.0*height, \n",
    "                weight[idx], ha='center', va='bottom', rotation=0)\n",
    "\n",
    "autolabel(bar_plot) \n",
    "plt.ylim(0.5,1.0) \n",
    "plt.show()"
   ]
  },
  {
   "cell_type": "markdown",
   "metadata": {},
   "source": [
    "Random Forest gives the highest precision, Linear Discriminant gives the lowest."
   ]
  },
  {
   "cell_type": "code",
   "execution_count": 142,
   "metadata": {},
   "outputs": [
    {
     "data": {
      "image/png": "[encoded data removed]",
      "text/plain": [
       "<Figure size 432x288 with 1 Axes>"
      ]
     },
     "metadata": {
      "needs_background": "light"
     },
     "output_type": "display_data"
    }
   ],
   "source": [
    "# Recall\n",
    "import matplotlib.pyplot as plt \n",
    "fig = plt.figure()\n",
    "ax = fig.add_axes([0,0,1,1])\n",
    "classifications = ['KNN', 'GNB', ' LR', 'RFC', 'DT', ' LD'] \n",
    "weight = [0.9556,0.7922,0.7693,0.9856,0.9530,0.7644]\n",
    "bar_plot = ax.bar(classifications,weight) \n",
    "ax.set_ylabel('Weighted Average Score') \n",
    "ax.set_title('Recall')\n",
    "\n",
    "def autolabel(rects):\n",
    "    for idx,rect in enumerate(bar_plot): \n",
    "        height = rect.get_height()\n",
    "        ax.text(rect.get_x() + rect.get_width()/2., 1.0*height, \n",
    "                weight[idx], ha='center', va='bottom', rotation=0)\n",
    "\n",
    "autolabel(bar_plot) \n",
    "plt.ylim(0.5,1.0) \n",
    "plt.show()"
   ]
  },
  {
   "cell_type": "markdown",
   "metadata": {},
   "source": [
    "Random Forest gives the highest recall, Linear Discriminant gives the lowest."
   ]
  },
  {
   "cell_type": "code",
   "execution_count": 139,
   "metadata": {},
   "outputs": [
    {
     "data": {
      "image/png": "[encoded data removed]",
      "text/plain": [
       "<Figure size 432x288 with 1 Axes>"
      ]
     },
     "metadata": {
      "needs_background": "light"
     },
     "output_type": "display_data"
    }
   ],
   "source": [
    "# F1-score\n",
    "import matplotlib.pyplot as plt \n",
    "fig = plt.figure()\n",
    "ax = fig.add_axes([0,0,1,1])\n",
    "classifications = ['KNN', 'GNB', ' LR', 'RFC', 'DT', ' LD'] \n",
    "weight = [0.9555,0.8020,0.7373,0.9855,0.9532,0.7353]\n",
    "bar_plot = ax.bar(classifications,weight) \n",
    "ax.set_ylabel('Weighted Average Score') \n",
    "ax.set_title('Recall')\n",
    "\n",
    "def autolabel(rects):\n",
    "    for idx,rect in enumerate(bar_plot): \n",
    "        height = rect.get_height()\n",
    "        ax.text(rect.get_x() + rect.get_width()/2., 1.0*height, \n",
    "                weight[idx], ha='center', va='bottom', rotation=0)\n",
    "\n",
    "autolabel(bar_plot) \n",
    "plt.ylim(0.5,1.0) \n",
    "plt.show()"
   ]
  },
  {
   "cell_type": "markdown",
   "metadata": {},
   "source": [
    "Random Forest gives the highest recall, Linear Discriminant gives the lowest."
   ]
  },
  {
   "cell_type": "markdown",
   "metadata": {},
   "source": [
    "# Modelling with one-hot encoder"
   ]
  },
  {
   "cell_type": "code",
   "execution_count": 63,
   "metadata": {},
   "outputs": [
    {
     "data": {
      "text/plain": [
       "satisfaction_level       float64\n",
       "last_evaluation          float64\n",
       "number_project             int64\n",
       "average_montly_hours       int64\n",
       "time_spend_company         int64\n",
       "Work_accident              int64\n",
       "promotion_last_5years      int64\n",
       "salary                     int32\n",
       "0                        float64\n",
       "1                        float64\n",
       "2                        float64\n",
       "3                        float64\n",
       "4                        float64\n",
       "5                        float64\n",
       "6                        float64\n",
       "7                        float64\n",
       "8                        float64\n",
       "9                        float64\n",
       "dtype: object"
      ]
     },
     "execution_count": 63,
     "metadata": {},
     "output_type": "execute_result"
    }
   ],
   "source": [
    "df_encoded.dtypes"
   ]
  },
  {
   "cell_type": "code",
   "execution_count": 64,
   "metadata": {},
   "outputs": [
    {
     "data": {
      "text/plain": [
       "satisfaction_level          0\n",
       "last_evaluation             0\n",
       "number_project              0\n",
       "average_montly_hours        0\n",
       "time_spend_company          0\n",
       "Work_accident               0\n",
       "promotion_last_5years       0\n",
       "salary                      0\n",
       "0                        1341\n",
       "1                        1341\n",
       "2                        1341\n",
       "3                        1341\n",
       "4                        1341\n",
       "5                        1341\n",
       "6                        1341\n",
       "7                        1341\n",
       "8                        1341\n",
       "9                        1341\n",
       "dtype: int64"
      ]
     },
     "execution_count": 64,
     "metadata": {},
     "output_type": "execute_result"
    }
   ],
   "source": [
    "#identify missing value\n",
    "df_encoded.isnull().sum()"
   ]
  },
  {
   "cell_type": "code",
   "execution_count": 67,
   "metadata": {},
   "outputs": [],
   "source": [
    "fill_wif_zero = df_encoded.fillna(0)"
   ]
  },
  {
   "cell_type": "code",
   "execution_count": 69,
   "metadata": {},
   "outputs": [
    {
     "data": {
      "text/plain": [
       "satisfaction_level       0\n",
       "last_evaluation          0\n",
       "number_project           0\n",
       "average_montly_hours     0\n",
       "time_spend_company       0\n",
       "Work_accident            0\n",
       "promotion_last_5years    0\n",
       "salary                   0\n",
       "0                        0\n",
       "1                        0\n",
       "2                        0\n",
       "3                        0\n",
       "4                        0\n",
       "5                        0\n",
       "6                        0\n",
       "7                        0\n",
       "8                        0\n",
       "9                        0\n",
       "dtype: int64"
      ]
     },
     "execution_count": 69,
     "metadata": {},
     "output_type": "execute_result"
    }
   ],
   "source": [
    "#identify missing value\n",
    "fill_wif_zero.isnull().sum()"
   ]
  },
  {
   "cell_type": "code",
   "execution_count": 70,
   "metadata": {},
   "outputs": [],
   "source": [
    "## Train test-split using df_encoded which fill with 0\n",
    "Xtrain, Xtest, Ytrain, Ytest = train_test_split(fill_wif_zero, y, test_size=0.2, random_state= 50)"
   ]
  },
  {
   "cell_type": "code",
   "execution_count": 71,
   "metadata": {},
   "outputs": [
    {
     "name": "stdout",
     "output_type": "stream",
     "text": [
      "\n",
      "\t\tK-Nearest Neighbors Classifier\n",
      "\n",
      "               precision    recall  f1-score   support\n",
      "\n",
      "           0     0.9740    0.9428    0.9581      2063\n",
      "           1     0.8321    0.9184    0.8731       637\n",
      "\n",
      "    accuracy                         0.9370      2700\n",
      "   macro avg     0.9031    0.9306    0.9156      2700\n",
      "weighted avg     0.9405    0.9370    0.9381      2700\n",
      "\n"
     ]
    }
   ],
   "source": [
    "#KNN\n",
    "from sklearn.neighbors import KNeighborsClassifier\n",
    "\n",
    "knn = KNeighborsClassifier(n_neighbors=10)\n",
    "knn.fit(Xtrain, Ytrain)\n",
    "y_knn = knn.predict(Xtest)\n",
    "\n",
    "print('\\n\\t\\tK-Nearest Neighbors Classifier\\n\\n', classification_report(Ytest, y_knn, digits=4))"
   ]
  },
  {
   "cell_type": "code",
   "execution_count": 72,
   "metadata": {},
   "outputs": [
    {
     "name": "stdout",
     "output_type": "stream",
     "text": [
      "\n",
      "\t\tGaussian Naive Bayes Classifier\n",
      "\n",
      "               precision    recall  f1-score   support\n",
      "\n",
      "           0     0.9156    0.7620    0.8317      2063\n",
      "           1     0.5005    0.7724    0.6074       637\n",
      "\n",
      "    accuracy                         0.7644      2700\n",
      "   macro avg     0.7080    0.7672    0.7196      2700\n",
      "weighted avg     0.8176    0.7644    0.7788      2700\n",
      "\n"
     ]
    }
   ],
   "source": [
    "#Gaussian Naive Bayes Classifier\n",
    "from sklearn.naive_bayes import GaussianNB\n",
    "\n",
    "gnb = GaussianNB()\n",
    "gnb.fit(Xtrain, Ytrain)\n",
    "y_gnb = gnb.predict(Xtest)\n",
    "\n",
    "print('\\n\\t\\tGaussian Naive Bayes Classifier\\n\\n', classification_report(Ytest, y_gnb, digits=4))"
   ]
  },
  {
   "cell_type": "code",
   "execution_count": 73,
   "metadata": {},
   "outputs": [
    {
     "name": "stdout",
     "output_type": "stream",
     "text": [
      "\n",
      "\t\tLogistic Regression\n",
      "\n",
      "               precision    recall  f1-score   support\n",
      "\n",
      "           0     0.8042    0.9258    0.8607      2063\n",
      "           1     0.5292    0.2700    0.3576       637\n",
      "\n",
      "    accuracy                         0.7711      2700\n",
      "   macro avg     0.6667    0.5979    0.6092      2700\n",
      "weighted avg     0.7393    0.7711    0.7420      2700\n",
      "\n"
     ]
    },
    {
     "name": "stderr",
     "output_type": "stream",
     "text": [
      "C:\\Users\\60169\\anaconda3\\lib\\site-packages\\sklearn\\linear_model\\_logistic.py:763: ConvergenceWarning: lbfgs failed to converge (status=1):\n",
      "STOP: TOTAL NO. of ITERATIONS REACHED LIMIT.\n",
      "\n",
      "Increase the number of iterations (max_iter) or scale the data as shown in:\n",
      "    https://scikit-learn.org/stable/modules/preprocessing.html\n",
      "Please also refer to the documentation for alternative solver options:\n",
      "    https://scikit-learn.org/stable/modules/linear_model.html#logistic-regression\n",
      "  n_iter_i = _check_optimize_result(\n"
     ]
    }
   ],
   "source": [
    "# Logistic Regression\n",
    "from sklearn.linear_model import LogisticRegression\n",
    "\n",
    "lr = LogisticRegression()\n",
    "lr.fit(Xtrain, Ytrain)\n",
    "y_lr = lr.predict(Xtest)\n",
    "\n",
    "print('\\n\\t\\tLogistic Regression\\n\\n', classification_report(Ytest, y_lr, digits=4))"
   ]
  },
  {
   "cell_type": "code",
   "execution_count": 74,
   "metadata": {},
   "outputs": [
    {
     "name": "stdout",
     "output_type": "stream",
     "text": [
      "\n",
      "\t\tRandom Forest Classifier\n",
      "\n",
      "               precision    recall  f1-score   support\n",
      "\n",
      "           0     0.9790    0.9956    0.9873      2063\n",
      "           1     0.9850    0.9309    0.9572       637\n",
      "\n",
      "    accuracy                         0.9804      2700\n",
      "   macro avg     0.9820    0.9633    0.9722      2700\n",
      "weighted avg     0.9804    0.9804    0.9802      2700\n",
      "\n"
     ]
    }
   ],
   "source": [
    "# Random Forest Classification\n",
    "from sklearn.ensemble import RandomForestClassifier\n",
    "\n",
    "rf = RandomForestClassifier(random_state=67)\n",
    "rf.fit(Xtrain, Ytrain)\n",
    "y_rf = rf.predict(Xtest)\n",
    "\n",
    "print('\\n\\t\\tRandom Forest Classifier\\n\\n', classification_report(Ytest, y_rf, digits=4))"
   ]
  },
  {
   "cell_type": "code",
   "execution_count": 75,
   "metadata": {},
   "outputs": [
    {
     "name": "stdout",
     "output_type": "stream",
     "text": [
      "\n",
      "\t\tDecission tree Classifier\n",
      "\n",
      "               precision    recall  f1-score   support\n",
      "\n",
      "           0     0.9731    0.9651    0.9691      2063\n",
      "           1     0.8899    0.9137    0.9016       637\n",
      "\n",
      "    accuracy                         0.9530      2700\n",
      "   macro avg     0.9315    0.9394    0.9354      2700\n",
      "weighted avg     0.9535    0.9530    0.9532      2700\n",
      "\n"
     ]
    }
   ],
   "source": [
    "# Decision Tree\n",
    "from sklearn.tree import DecisionTreeClassifier\n",
    "\n",
    "dt = DecisionTreeClassifier(max_depth=3)\n",
    "dt.fit(Xtrain, Ytrain)\n",
    "y_dt = dt.predict(Xtest)\n",
    "\n",
    "print('\\n\\t\\tDecission tree Classifier\\n\\n', classification_report(Ytest, y_dt, digits=4))"
   ]
  },
  {
   "cell_type": "code",
   "execution_count": 76,
   "metadata": {},
   "outputs": [
    {
     "name": "stdout",
     "output_type": "stream",
     "text": [
      "\n",
      "\t\tLinear Discriminant Analysis\n",
      "\n",
      "               precision    recall  f1-score   support\n",
      "\n",
      "           0     0.8214    0.9210    0.8684      2063\n",
      "           1     0.5788    0.3516    0.4375       637\n",
      "\n",
      "    accuracy                         0.7867      2700\n",
      "   macro avg     0.7001    0.6363    0.6529      2700\n",
      "weighted avg     0.7642    0.7867    0.7667      2700\n",
      "\n"
     ]
    }
   ],
   "source": [
    "# Linear Discriminant Analysis\n",
    "from sklearn.discriminant_analysis import LinearDiscriminantAnalysis\n",
    "\n",
    "lda = LinearDiscriminantAnalysis()\n",
    "lda.fit(Xtrain, Ytrain)\n",
    "y_lda = lda.predict(Xtest)\n",
    "\n",
    "print('\\n\\t\\tLinear Discriminant Analysis\\n\\n', classification_report(Ytest, y_lda,digits=4 ))"
   ]
  },
  {
   "cell_type": "code",
   "execution_count": 143,
   "metadata": {},
   "outputs": [
    {
     "data": {
      "image/png": "[encoded data removed]",
      "text/plain": [
       "<Figure size 432x288 with 1 Axes>"
      ]
     },
     "metadata": {
      "needs_background": "light"
     },
     "output_type": "display_data"
    }
   ],
   "source": [
    "# Precision\n",
    "import matplotlib.pyplot as plt \n",
    "fig = plt.figure()\n",
    "ax = fig.add_axes([0,0,1,1])\n",
    "classifications = ['KNN', 'GNB', ' LR', 'RFC', 'DT', ' LD'] \n",
    "weight = [0.9405 ,0.8176,0.7393,0.9804,0.9535,0.7642]\n",
    "bar_plot = ax.bar(classifications,weight) \n",
    "ax.set_ylabel('Weighted Average Score') \n",
    "ax.set_title('Precision')\n",
    "\n",
    "def autolabel(rects):\n",
    "    for idx,rect in enumerate(bar_plot): \n",
    "        height = rect.get_height()\n",
    "        ax.text(rect.get_x() + rect.get_width()/2., 1.0*height, \n",
    "                weight[idx], ha='center', va='bottom', rotation=0)\n",
    "\n",
    "autolabel(bar_plot) \n",
    "plt.ylim(0.5,1.0) \n",
    "plt.show()"
   ]
  },
  {
   "cell_type": "markdown",
   "metadata": {},
   "source": [
    "Random Forest gives the highest precision, Logistic Regression gives the lowest."
   ]
  },
  {
   "cell_type": "code",
   "execution_count": 144,
   "metadata": {},
   "outputs": [
    {
     "data": {
      "image/png": "[encoded data removed]",
      "text/plain": [
       "<Figure size 432x288 with 1 Axes>"
      ]
     },
     "metadata": {
      "needs_background": "light"
     },
     "output_type": "display_data"
    }
   ],
   "source": [
    "# Recall\n",
    "import matplotlib.pyplot as plt \n",
    "fig = plt.figure()\n",
    "ax = fig.add_axes([0,0,1,1])\n",
    "classifications = ['KNN', 'GNB', ' LR', 'RFC', 'DT', ' LD'] \n",
    "weight = [0.9370,0.7644,0.7711,0.9804,0.9530,0.7867]\n",
    "bar_plot = ax.bar(classifications,weight) \n",
    "ax.set_ylabel('Weighted Average Score') \n",
    "ax.set_title('Recall')\n",
    "\n",
    "def autolabel(rects):\n",
    "    for idx,rect in enumerate(bar_plot): \n",
    "        height = rect.get_height()\n",
    "        ax.text(rect.get_x() + rect.get_width()/2., 1.0*height, \n",
    "                weight[idx], ha='center', va='bottom', rotation=0)\n",
    "\n",
    "autolabel(bar_plot) \n",
    "plt.ylim(0.5,1.0) \n",
    "plt.show()"
   ]
  },
  {
   "cell_type": "markdown",
   "metadata": {},
   "source": [
    "Random Forest gives the highest recall, Gaussian Naive Bayes gives the lowest."
   ]
  },
  {
   "cell_type": "code",
   "execution_count": 145,
   "metadata": {},
   "outputs": [
    {
     "data": {
      "image/png": "[encoded data removed]",
      "text/plain": [
       "<Figure size 432x288 with 1 Axes>"
      ]
     },
     "metadata": {
      "needs_background": "light"
     },
     "output_type": "display_data"
    }
   ],
   "source": [
    "# F1-score\n",
    "import matplotlib.pyplot as plt \n",
    "fig = plt.figure()\n",
    "ax = fig.add_axes([0,0,1,1])\n",
    "classifications = ['KNN', 'GNB', ' LR', 'RFC', 'DT', ' LD'] \n",
    "weight = [0.9381,0.7788,0.7420,0.9802,0.9532,0.7667]\n",
    "bar_plot = ax.bar(classifications,weight) \n",
    "ax.set_ylabel('Weighted Average Score') \n",
    "ax.set_title('Recall')\n",
    "\n",
    "def autolabel(rects):\n",
    "    for idx,rect in enumerate(bar_plot): \n",
    "        height = rect.get_height()\n",
    "        ax.text(rect.get_x() + rect.get_width()/2., 1.0*height, \n",
    "                weight[idx], ha='center', va='bottom', rotation=0)\n",
    "\n",
    "autolabel(bar_plot) \n",
    "plt.ylim(0.5,1.0) \n",
    "plt.show()"
   ]
  },
  {
   "cell_type": "markdown",
   "metadata": {},
   "source": [
    "Random Forest gives the highest recall, Logistic Regression gives the lowest."
   ]
  },
  {
   "cell_type": "markdown",
   "metadata": {},
   "source": [
    "# Principal Component Analysis\n",
    "With PCA we can detect which feature is useful for this research"
   ]
  },
  {
   "cell_type": "code",
   "execution_count": 81,
   "metadata": {},
   "outputs": [
    {
     "data": {
      "text/html": [
       "<div>\n",
       "<style scoped>\n",
       "    .dataframe tbody tr th:only-of-type {\n",
       "        vertical-align: middle;\n",
       "    }\n",
       "\n",
       "    .dataframe tbody tr th {\n",
       "        vertical-align: top;\n",
       "    }\n",
       "\n",
       "    .dataframe thead th {\n",
       "        text-align: right;\n",
       "    }\n",
       "</style>\n",
       "<table border=\"1\" class=\"dataframe\">\n",
       "  <thead>\n",
       "    <tr style=\"text-align: right;\">\n",
       "      <th></th>\n",
       "      <th>satisfaction_level</th>\n",
       "      <th>last_evaluation</th>\n",
       "      <th>number_project</th>\n",
       "      <th>average_montly_hours</th>\n",
       "      <th>time_spend_company</th>\n",
       "      <th>Work_accident</th>\n",
       "      <th>promotion_last_5years</th>\n",
       "      <th>salary</th>\n",
       "    </tr>\n",
       "  </thead>\n",
       "  <tbody>\n",
       "    <tr>\n",
       "      <th>7686</th>\n",
       "      <td>0.67</td>\n",
       "      <td>0.92</td>\n",
       "      <td>4</td>\n",
       "      <td>156</td>\n",
       "      <td>2</td>\n",
       "      <td>0</td>\n",
       "      <td>0</td>\n",
       "      <td>2</td>\n",
       "    </tr>\n",
       "    <tr>\n",
       "      <th>8988</th>\n",
       "      <td>0.96</td>\n",
       "      <td>0.93</td>\n",
       "      <td>3</td>\n",
       "      <td>238</td>\n",
       "      <td>2</td>\n",
       "      <td>0</td>\n",
       "      <td>0</td>\n",
       "      <td>1</td>\n",
       "    </tr>\n",
       "    <tr>\n",
       "      <th>5850</th>\n",
       "      <td>0.83</td>\n",
       "      <td>0.75</td>\n",
       "      <td>3</td>\n",
       "      <td>150</td>\n",
       "      <td>3</td>\n",
       "      <td>0</td>\n",
       "      <td>0</td>\n",
       "      <td>1</td>\n",
       "    </tr>\n",
       "    <tr>\n",
       "      <th>10600</th>\n",
       "      <td>0.63</td>\n",
       "      <td>0.94</td>\n",
       "      <td>4</td>\n",
       "      <td>219</td>\n",
       "      <td>3</td>\n",
       "      <td>0</td>\n",
       "      <td>0</td>\n",
       "      <td>1</td>\n",
       "    </tr>\n",
       "    <tr>\n",
       "      <th>6207</th>\n",
       "      <td>0.63</td>\n",
       "      <td>0.98</td>\n",
       "      <td>4</td>\n",
       "      <td>210</td>\n",
       "      <td>3</td>\n",
       "      <td>0</td>\n",
       "      <td>0</td>\n",
       "      <td>2</td>\n",
       "    </tr>\n",
       "    <tr>\n",
       "      <th>...</th>\n",
       "      <td>...</td>\n",
       "      <td>...</td>\n",
       "      <td>...</td>\n",
       "      <td>...</td>\n",
       "      <td>...</td>\n",
       "      <td>...</td>\n",
       "      <td>...</td>\n",
       "      <td>...</td>\n",
       "    </tr>\n",
       "    <tr>\n",
       "      <th>1395</th>\n",
       "      <td>0.45</td>\n",
       "      <td>0.51</td>\n",
       "      <td>2</td>\n",
       "      <td>156</td>\n",
       "      <td>3</td>\n",
       "      <td>0</td>\n",
       "      <td>0</td>\n",
       "      <td>2</td>\n",
       "    </tr>\n",
       "    <tr>\n",
       "      <th>3273</th>\n",
       "      <td>0.49</td>\n",
       "      <td>0.52</td>\n",
       "      <td>5</td>\n",
       "      <td>188</td>\n",
       "      <td>4</td>\n",
       "      <td>0</td>\n",
       "      <td>0</td>\n",
       "      <td>2</td>\n",
       "    </tr>\n",
       "    <tr>\n",
       "      <th>4475</th>\n",
       "      <td>0.67</td>\n",
       "      <td>0.52</td>\n",
       "      <td>4</td>\n",
       "      <td>262</td>\n",
       "      <td>2</td>\n",
       "      <td>0</td>\n",
       "      <td>0</td>\n",
       "      <td>2</td>\n",
       "    </tr>\n",
       "    <tr>\n",
       "      <th>11969</th>\n",
       "      <td>0.60</td>\n",
       "      <td>0.85</td>\n",
       "      <td>3</td>\n",
       "      <td>242</td>\n",
       "      <td>2</td>\n",
       "      <td>0</td>\n",
       "      <td>0</td>\n",
       "      <td>1</td>\n",
       "    </tr>\n",
       "    <tr>\n",
       "      <th>7952</th>\n",
       "      <td>0.41</td>\n",
       "      <td>0.56</td>\n",
       "      <td>2</td>\n",
       "      <td>121</td>\n",
       "      <td>2</td>\n",
       "      <td>0</td>\n",
       "      <td>0</td>\n",
       "      <td>2</td>\n",
       "    </tr>\n",
       "  </tbody>\n",
       "</table>\n",
       "<p>13499 rows × 8 columns</p>\n",
       "</div>"
      ],
      "text/plain": [
       "       satisfaction_level  last_evaluation  number_project  \\\n",
       "7686                 0.67             0.92               4   \n",
       "8988                 0.96             0.93               3   \n",
       "5850                 0.83             0.75               3   \n",
       "10600                0.63             0.94               4   \n",
       "6207                 0.63             0.98               4   \n",
       "...                   ...              ...             ...   \n",
       "1395                 0.45             0.51               2   \n",
       "3273                 0.49             0.52               5   \n",
       "4475                 0.67             0.52               4   \n",
       "11969                0.60             0.85               3   \n",
       "7952                 0.41             0.56               2   \n",
       "\n",
       "       average_montly_hours  time_spend_company  Work_accident  \\\n",
       "7686                    156                   2              0   \n",
       "8988                    238                   2              0   \n",
       "5850                    150                   3              0   \n",
       "10600                   219                   3              0   \n",
       "6207                    210                   3              0   \n",
       "...                     ...                 ...            ...   \n",
       "1395                    156                   3              0   \n",
       "3273                    188                   4              0   \n",
       "4475                    262                   2              0   \n",
       "11969                   242                   2              0   \n",
       "7952                    121                   2              0   \n",
       "\n",
       "       promotion_last_5years  salary  \n",
       "7686                       0       2  \n",
       "8988                       0       1  \n",
       "5850                       0       1  \n",
       "10600                      0       1  \n",
       "6207                       0       2  \n",
       "...                      ...     ...  \n",
       "1395                       0       2  \n",
       "3273                       0       2  \n",
       "4475                       0       2  \n",
       "11969                      0       1  \n",
       "7952                       0       2  \n",
       "\n",
       "[13499 rows x 8 columns]"
      ]
     },
     "execution_count": 81,
     "metadata": {},
     "output_type": "execute_result"
    }
   ],
   "source": [
    "X"
   ]
  },
  {
   "cell_type": "code",
   "execution_count": 82,
   "metadata": {},
   "outputs": [],
   "source": [
    "## Train test-split using X (without one-hot encoder of role)\n",
    "Xtrain, Xtest, Ytrain, Ytest = train_test_split(X, y, test_size=0.2, random_state= 50)"
   ]
  },
  {
   "cell_type": "code",
   "execution_count": 83,
   "metadata": {},
   "outputs": [],
   "source": [
    "from sklearn.decomposition import PCA \n",
    "\n",
    "pca = PCA(n_components = 2)\n",
    "\n",
    "Xtrain_PCA = pca.fit_transform(Xtrain) \n",
    "Xtest_PCA = pca.transform(Xtest)\n",
    "\n",
    "explained_variance = pca.explained_variance_ratio_"
   ]
  },
  {
   "cell_type": "code",
   "execution_count": 84,
   "metadata": {},
   "outputs": [
    {
     "name": "stdout",
     "output_type": "stream",
     "text": [
      "\n",
      "\t\tK-Nearest Neighbors Classifier\n",
      "\n",
      "               precision    recall  f1-score   support\n",
      "\n",
      "           0     0.9662    0.9428    0.9544      2063\n",
      "           1     0.8282    0.8932    0.8595       637\n",
      "\n",
      "    accuracy                         0.9311      2700\n",
      "   macro avg     0.8972    0.9180    0.9069      2700\n",
      "weighted avg     0.9337    0.9311    0.9320      2700\n",
      "\n"
     ]
    }
   ],
   "source": [
    "#KNN\n",
    "from sklearn.neighbors import KNeighborsClassifier\n",
    "\n",
    "knn_pca = KNeighborsClassifier(n_neighbors=10) \n",
    "knn_pca.fit(Xtrain_PCA, Ytrain)\n",
    "y_knn_pca = knn_pca.predict(Xtest_PCA)\n",
    "\n",
    "print('\\n\\t\\tK-Nearest Neighbors Classifier\\n\\n', classification_report(Ytest, y_knn_pca, digits=4))"
   ]
  },
  {
   "cell_type": "code",
   "execution_count": 85,
   "metadata": {},
   "outputs": [
    {
     "name": "stdout",
     "output_type": "stream",
     "text": [
      "\n",
      "\t\tGaussian Naive Bayes Classifier\n",
      "\n",
      "               precision    recall  f1-score   support\n",
      "\n",
      "           0     0.7825    0.9995    0.8778      2063\n",
      "           1     0.9846    0.1005    0.1823       637\n",
      "\n",
      "    accuracy                         0.7874      2700\n",
      "   macro avg     0.8836    0.5500    0.5301      2700\n",
      "weighted avg     0.8302    0.7874    0.7137      2700\n",
      "\n"
     ]
    }
   ],
   "source": [
    "from sklearn.naive_bayes import GaussianNB\n",
    "\n",
    "gnb_pca = GaussianNB() \n",
    "gnb_pca.fit(Xtrain_PCA, Ytrain) \n",
    "y_gnb_pca = gnb_pca.predict(Xtest_PCA)\n",
    "\n",
    "print('\\n\\t\\tGaussian Naive Bayes Classifier\\n\\n', classification_report(Ytest, y_gnb_pca, digits=4))"
   ]
  },
  {
   "cell_type": "code",
   "execution_count": 86,
   "metadata": {},
   "outputs": [
    {
     "name": "stdout",
     "output_type": "stream",
     "text": [
      "\n",
      "\t\tLogistic Regression\n",
      "\n",
      "               precision    recall  f1-score   support\n",
      "\n",
      "           0     0.7630    0.9942    0.8634      2063\n",
      "           1     0.0000    0.0000    0.0000       637\n",
      "\n",
      "    accuracy                         0.7596      2700\n",
      "   macro avg     0.3815    0.4971    0.4317      2700\n",
      "weighted avg     0.5830    0.7596    0.6597      2700\n",
      "\n"
     ]
    }
   ],
   "source": [
    "from sklearn.linear_model import LogisticRegression\n",
    "\n",
    "lr_pca = LogisticRegression() \n",
    "lr_pca.fit(Xtrain_PCA, Ytrain) \n",
    "y_lr_pca = lr_pca.predict(Xtest_PCA)\n",
    "\n",
    "print('\\n\\t\\tLogistic Regression\\n\\n', classification_report(Ytest, y_lr_pca, digits=4))"
   ]
  },
  {
   "cell_type": "code",
   "execution_count": 87,
   "metadata": {},
   "outputs": [
    {
     "name": "stdout",
     "output_type": "stream",
     "text": [
      "\n",
      "\t\tRandom Forest Classifier\n",
      "\n",
      "               precision    recall  f1-score   support\n",
      "\n",
      "           0     0.9814    0.9719    0.9766      2063\n",
      "           1     0.9117    0.9403    0.9258       637\n",
      "\n",
      "    accuracy                         0.9644      2700\n",
      "   macro avg     0.9466    0.9561    0.9512      2700\n",
      "weighted avg     0.9650    0.9644    0.9646      2700\n",
      "\n"
     ]
    }
   ],
   "source": [
    "#  Randon  Forest\n",
    "from sklearn.ensemble import RandomForestClassifier\n",
    "\n",
    "rf_pca = RandomForestClassifier(random_state=67) \n",
    "rf_pca.fit(Xtrain_PCA, Ytrain)\n",
    "y_rf_pca = rf_pca.predict(Xtest_PCA)\n",
    "\n",
    "print('\\n\\t\\tRandom Forest Classifier\\n\\n', classification_report(Ytest, y_rf_pca, digits=4))\n"
   ]
  },
  {
   "cell_type": "code",
   "execution_count": 88,
   "metadata": {},
   "outputs": [
    {
     "name": "stdout",
     "output_type": "stream",
     "text": [
      "\n",
      "\t\tDecission tree Classifier\n",
      "\n",
      "               precision    recall  f1-score   support\n",
      "\n",
      "           0     0.9358    0.8827    0.9085      2063\n",
      "           1     0.6790    0.8038    0.7362       637\n",
      "\n",
      "    accuracy                         0.8641      2700\n",
      "   macro avg     0.8074    0.8432    0.8223      2700\n",
      "weighted avg     0.8752    0.8641    0.8678      2700\n",
      "\n"
     ]
    }
   ],
   "source": [
    "#  Decision  Tree\n",
    "from sklearn.tree import DecisionTreeClassifier\n",
    "\n",
    "dt_pca = DecisionTreeClassifier(max_depth=3) \n",
    "dt_pca.fit(Xtrain_PCA, Ytrain)\n",
    "y_dt_pca = dt_pca.predict(Xtest_PCA)\n",
    "\n",
    "print('\\n\\t\\tDecission tree Classifier\\n\\n', classification_report(Ytest, y_dt_pca, digits=4))"
   ]
  },
  {
   "cell_type": "code",
   "execution_count": 89,
   "metadata": {},
   "outputs": [
    {
     "name": "stdout",
     "output_type": "stream",
     "text": [
      "\n",
      "\t\tLinear Discriminant Analysis\n",
      "\n",
      "               precision    recall  f1-score   support\n",
      "\n",
      "           0     0.7620    0.9884    0.8605      2063\n",
      "           1     0.0000    0.0000    0.0000       637\n",
      "\n",
      "    accuracy                         0.7552      2700\n",
      "   macro avg     0.3810    0.4942    0.4303      2700\n",
      "weighted avg     0.5822    0.7552    0.6575      2700\n",
      "\n"
     ]
    }
   ],
   "source": [
    "#  Linear Discriminant  Analysis\n",
    "from sklearn.discriminant_analysis import LinearDiscriminantAnalysis\n",
    "\n",
    "lda_pca = LinearDiscriminantAnalysis() \n",
    "lda_pca.fit(Xtrain_PCA, Ytrain) \n",
    "y_lda_pca = lda_pca.predict(Xtest_PCA)\n",
    "\n",
    "print('\\n\\t\\tLinear Discriminant Analysis\\n\\n', classification_report(Ytest, y_lda_pca,digits=4 ))"
   ]
  },
  {
   "cell_type": "code",
   "execution_count": 98,
   "metadata": {},
   "outputs": [
    {
     "name": "stdout",
     "output_type": "stream",
     "text": [
      "[0.24382682 0.14348358 0.2374664  0.15537492 0.18101941 0.01713662\n",
      " 0.00312653 0.01856573]\n"
     ]
    },
    {
     "data": {
      "image/png": "[encoded data removed]",
      "text/plain": [
       "<Figure size 432x288 with 1 Axes>"
      ]
     },
     "metadata": {
      "needs_background": "light"
     },
     "output_type": "display_data"
    }
   ],
   "source": [
    "#determine the top 5 model that affect\n",
    "from sklearn.ensemble import ExtraTreesClassifier \n",
    "import matplotlib.pyplot as plt\n",
    "model = ExtraTreesClassifier() \n",
    "model.fit(X,y)\n",
    "print(model.feature_importances_)\n",
    "\n",
    "feat_importances = pd.Series(model.feature_importances_, index=X.columns) \n",
    "feat_importances.nlargest(8).plot(kind='barh')\n",
    "plt.show()"
   ]
  },
  {
   "cell_type": "markdown",
   "metadata": {},
   "source": [
    "Because the organisation is interested in learning about the common elements or features that influence employee departure, the bar chart above depicts the eight most common aspects or features that influence manufacturing defect discovery. \n",
    "\n",
    "Therefore, the top 5 common features that affect manufacturing defect identification are'satisfication level', 'number project', 'time spend company', 'average monthy hours', and 'last evaluation.'"
   ]
  },
  {
   "cell_type": "code",
   "execution_count": 99,
   "metadata": {},
   "outputs": [
    {
     "data": {
      "text/html": [
       "<div>\n",
       "<style scoped>\n",
       "    .dataframe tbody tr th:only-of-type {\n",
       "        vertical-align: middle;\n",
       "    }\n",
       "\n",
       "    .dataframe tbody tr th {\n",
       "        vertical-align: top;\n",
       "    }\n",
       "\n",
       "    .dataframe thead th {\n",
       "        text-align: right;\n",
       "    }\n",
       "</style>\n",
       "<table border=\"1\" class=\"dataframe\">\n",
       "  <thead>\n",
       "    <tr style=\"text-align: right;\">\n",
       "      <th></th>\n",
       "      <th>satisfaction_level</th>\n",
       "      <th>number_project</th>\n",
       "      <th>time_spend_company</th>\n",
       "      <th>average_montly_hours</th>\n",
       "      <th>last_evaluation</th>\n",
       "    </tr>\n",
       "  </thead>\n",
       "  <tbody>\n",
       "    <tr>\n",
       "      <th>7686</th>\n",
       "      <td>0.67</td>\n",
       "      <td>4</td>\n",
       "      <td>2</td>\n",
       "      <td>156</td>\n",
       "      <td>0.92</td>\n",
       "    </tr>\n",
       "    <tr>\n",
       "      <th>8988</th>\n",
       "      <td>0.96</td>\n",
       "      <td>3</td>\n",
       "      <td>2</td>\n",
       "      <td>238</td>\n",
       "      <td>0.93</td>\n",
       "    </tr>\n",
       "    <tr>\n",
       "      <th>5850</th>\n",
       "      <td>0.83</td>\n",
       "      <td>3</td>\n",
       "      <td>3</td>\n",
       "      <td>150</td>\n",
       "      <td>0.75</td>\n",
       "    </tr>\n",
       "    <tr>\n",
       "      <th>10600</th>\n",
       "      <td>0.63</td>\n",
       "      <td>4</td>\n",
       "      <td>3</td>\n",
       "      <td>219</td>\n",
       "      <td>0.94</td>\n",
       "    </tr>\n",
       "    <tr>\n",
       "      <th>6207</th>\n",
       "      <td>0.63</td>\n",
       "      <td>4</td>\n",
       "      <td>3</td>\n",
       "      <td>210</td>\n",
       "      <td>0.98</td>\n",
       "    </tr>\n",
       "    <tr>\n",
       "      <th>...</th>\n",
       "      <td>...</td>\n",
       "      <td>...</td>\n",
       "      <td>...</td>\n",
       "      <td>...</td>\n",
       "      <td>...</td>\n",
       "    </tr>\n",
       "    <tr>\n",
       "      <th>1395</th>\n",
       "      <td>0.45</td>\n",
       "      <td>2</td>\n",
       "      <td>3</td>\n",
       "      <td>156</td>\n",
       "      <td>0.51</td>\n",
       "    </tr>\n",
       "    <tr>\n",
       "      <th>3273</th>\n",
       "      <td>0.49</td>\n",
       "      <td>5</td>\n",
       "      <td>4</td>\n",
       "      <td>188</td>\n",
       "      <td>0.52</td>\n",
       "    </tr>\n",
       "    <tr>\n",
       "      <th>4475</th>\n",
       "      <td>0.67</td>\n",
       "      <td>4</td>\n",
       "      <td>2</td>\n",
       "      <td>262</td>\n",
       "      <td>0.52</td>\n",
       "    </tr>\n",
       "    <tr>\n",
       "      <th>11969</th>\n",
       "      <td>0.60</td>\n",
       "      <td>3</td>\n",
       "      <td>2</td>\n",
       "      <td>242</td>\n",
       "      <td>0.85</td>\n",
       "    </tr>\n",
       "    <tr>\n",
       "      <th>7952</th>\n",
       "      <td>0.41</td>\n",
       "      <td>2</td>\n",
       "      <td>2</td>\n",
       "      <td>121</td>\n",
       "      <td>0.56</td>\n",
       "    </tr>\n",
       "  </tbody>\n",
       "</table>\n",
       "<p>13499 rows × 5 columns</p>\n",
       "</div>"
      ],
      "text/plain": [
       "       satisfaction_level  number_project  time_spend_company  \\\n",
       "7686                 0.67               4                   2   \n",
       "8988                 0.96               3                   2   \n",
       "5850                 0.83               3                   3   \n",
       "10600                0.63               4                   3   \n",
       "6207                 0.63               4                   3   \n",
       "...                   ...             ...                 ...   \n",
       "1395                 0.45               2                   3   \n",
       "3273                 0.49               5                   4   \n",
       "4475                 0.67               4                   2   \n",
       "11969                0.60               3                   2   \n",
       "7952                 0.41               2                   2   \n",
       "\n",
       "       average_montly_hours  last_evaluation  \n",
       "7686                    156             0.92  \n",
       "8988                    238             0.93  \n",
       "5850                    150             0.75  \n",
       "10600                   219             0.94  \n",
       "6207                    210             0.98  \n",
       "...                     ...              ...  \n",
       "1395                    156             0.51  \n",
       "3273                    188             0.52  \n",
       "4475                    262             0.52  \n",
       "11969                   242             0.85  \n",
       "7952                    121             0.56  \n",
       "\n",
       "[13499 rows x 5 columns]"
      ]
     },
     "execution_count": 99,
     "metadata": {},
     "output_type": "execute_result"
    }
   ],
   "source": [
    "bestData = pd.DataFrame(myNewData[['satisfaction_level', 'number_project', 'time_spend_company', 'average_montly_hours','last_evaluation']])\n",
    "bestData"
   ]
  },
  {
   "cell_type": "code",
   "execution_count": 101,
   "metadata": {},
   "outputs": [
    {
     "data": {
      "text/plain": [
       "<AxesSubplot:>"
      ]
     },
     "execution_count": 101,
     "metadata": {},
     "output_type": "execute_result"
    },
    {
     "data": {
      "image/png": "[encoded data removed]",
      "text/plain": [
       "<Figure size 720x360 with 2 Axes>"
      ]
     },
     "metadata": {
      "needs_background": "light"
     },
     "output_type": "display_data"
    }
   ],
   "source": [
    "plt.figure(figsize=(10,5))\n",
    "sns.heatmap(bestData.corr(), annot = True)"
   ]
  },
  {
   "cell_type": "markdown",
   "metadata": {},
   "source": [
    "A correlation heatmap is a graphical representation of a correlation matrix that shows how different variables are related."
   ]
  },
  {
   "cell_type": "markdown",
   "metadata": {},
   "source": [
    "## Evaluation\n",
    "\n",
    "Following thorough data cleaning and training with various models, it has been determined that the Random Forest Classifier is the best model for this data, as it provides the highest accuracy, recall, and precision among the other models.\n"
   ]
  },
  {
   "cell_type": "code",
   "execution_count": 112,
   "metadata": {},
   "outputs": [
    {
     "name": "stdout",
     "output_type": "stream",
     "text": [
      " Normal Data (standardized and normalized):\n",
      "              precision    recall  f1-score   support\n",
      "\n",
      "           0       0.99      1.00      0.99      2063\n",
      "           1       0.99      0.95      0.97       637\n",
      "\n",
      "    accuracy                           0.99      2700\n",
      "   macro avg       0.99      0.97      0.98      2700\n",
      "weighted avg       0.99      0.99      0.99      2700\n",
      "\n",
      "\n",
      "One-hot encoded data (NaN values replaced by 0):\n",
      "              precision    recall  f1-score   support\n",
      "\n",
      "           0       0.98      1.00      0.99      2063\n",
      "           1       0.99      0.93      0.96       637\n",
      "\n",
      "    accuracy                           0.98      2700\n",
      "   macro avg       0.98      0.96      0.97      2700\n",
      "weighted avg       0.98      0.98      0.98      2700\n",
      "\n",
      "\n",
      "PCA Data:\n",
      "              precision    recall  f1-score   support\n",
      "\n",
      "           0       0.98      0.97      0.98      2063\n",
      "           1       0.91      0.94      0.93       637\n",
      "\n",
      "    accuracy                           0.96      2700\n",
      "   macro avg       0.95      0.96      0.95      2700\n",
      "weighted avg       0.96      0.96      0.96      2700\n",
      "\n"
     ]
    }
   ],
   "source": [
    "Xtrain, Xtest, Ytrain, Ytest = train_test_split(X, y, test_size=0.2, random_state= 50)\n",
    "\n",
    "model = RandomForestClassifier()\n",
    "model.fit(Xtrain, Ytrain)\n",
    "Report = classification_report(Ytest,model.predict(Xtest))\n",
    "\n",
    "fill_wif_zero = df_encoded.fillna(0)\n",
    "## Train test-split using df_encoded which fill with 0\n",
    "Xtrain, Xtest, Ytrain, Ytest = train_test_split(fill_wif_zero, y, test_size=0.2, random_state= 50)\n",
    "\n",
    "model = RandomForestClassifier()\n",
    "model.fit(Xtrain, Ytrain)\n",
    "HEreport = classification_report(Ytest,model.predict(Xtest))\n",
    "\n",
    "## Train test-split using X (without one-hot encoder of role)\n",
    "Xtrain, Xtest, Ytrain, Ytest = train_test_split(X, y, test_size=0.2, random_state= 50)\n",
    "\n",
    "from sklearn.decomposition import PCA \n",
    "\n",
    "pca = PCA(n_components = 2)\n",
    "\n",
    "Xtrain_PCA = pca.fit_transform(Xtrain) \n",
    "Xtest_PCA = pca.transform(Xtest)\n",
    "\n",
    "explained_variance = pca.explained_variance_ratio_\n",
    "\n",
    "#  Randon  Forest\n",
    "from sklearn.ensemble import RandomForestClassifier\n",
    "\n",
    "rf_pca = RandomForestClassifier(random_state=67) \n",
    "rf_pca.fit(Xtrain_PCA, Ytrain)\n",
    "y_rf_pca = rf_pca.predict(Xtest_PCA)\n",
    "\n",
    "PCAreport = classification_report(Ytest, y_rf_pca, digits=2)\n",
    "\n",
    "print(f\" Normal Data (standardized and normalized):\\n{Report}\\n\\nOne-hot encoded data (NaN values replaced by 0):\\n{HEreport}\\n\\nPCA Data:\\n{PCAreport}\")"
   ]
  },
  {
   "cell_type": "markdown",
   "metadata": {},
   "source": [
    "We can see that the normal data (all features except 'role' and 'names') classfication report gives us the highest accuracy among the others data. By using one-hot encoded (all features except 'names' and 'role' using one-hot encoder), the accuracy is not giving us the improvement same as PCA data. "
   ]
  },
  {
   "cell_type": "markdown",
   "metadata": {},
   "source": [
    "LinearDiscriminant, on the other hand, is the worst model to apply on this data. This is because \n",
    "\n",
    "- It requires normal distribution assumption on features/predictors\n",
    "- Sometimes not good for few categories variables.\n"
   ]
  },
  {
   "cell_type": "code",
   "execution_count": 113,
   "metadata": {},
   "outputs": [
    {
     "name": "stdout",
     "output_type": "stream",
     "text": [
      "\n",
      "\t\tLinear Discriminant Analysis\n",
      "\n",
      "               precision    recall  f1-score   support\n",
      "\n",
      "           0       0.80      0.92      0.86      2063\n",
      "           1       0.50      0.26      0.34       637\n",
      "\n",
      "    accuracy                           0.76      2700\n",
      "   macro avg       0.65      0.59      0.60      2700\n",
      "weighted avg       0.73      0.76      0.74      2700\n",
      "\n"
     ]
    }
   ],
   "source": [
    "Xtrain, Xtest, Ytrain, Ytest = train_test_split(X, y, test_size=0.2, random_state= 50)\n",
    "\n",
    "# Linear Discriminant Analysis\n",
    "from sklearn.discriminant_analysis import LinearDiscriminantAnalysis\n",
    "\n",
    "lda = LinearDiscriminantAnalysis()\n",
    "lda.fit(Xtrain, Ytrain)\n",
    "y_lda = lda.predict(Xtest)\n",
    "\n",
    "print('\\n\\t\\tLinear Discriminant Analysis\\n\\n', classification_report(Ytest, y_lda,digits=2))"
   ]
  },
  {
   "cell_type": "markdown",
   "metadata": {},
   "source": [
    "## Deployment\n",
    "\n",
    "When people log on to our system, the predictions will be provided upon request, and they can interact with the prediction model by entering the input raw values of satisfication level', 'number project', 'time spend company', 'average monthy hours', and 'last evaluation'.\n",
    "\n",
    "The steps for deployment are as follows:\n"
   ]
  },
  {
   "cell_type": "code",
   "execution_count": 123,
   "metadata": {},
   "outputs": [
    {
     "data": {
      "text/html": [
       "<div>\n",
       "<style scoped>\n",
       "    .dataframe tbody tr th:only-of-type {\n",
       "        vertical-align: middle;\n",
       "    }\n",
       "\n",
       "    .dataframe tbody tr th {\n",
       "        vertical-align: top;\n",
       "    }\n",
       "\n",
       "    .dataframe thead th {\n",
       "        text-align: right;\n",
       "    }\n",
       "</style>\n",
       "<table border=\"1\" class=\"dataframe\">\n",
       "  <thead>\n",
       "    <tr style=\"text-align: right;\">\n",
       "      <th></th>\n",
       "      <th>satisfaction_level</th>\n",
       "      <th>last_evaluation</th>\n",
       "      <th>number_project</th>\n",
       "      <th>average_montly_hours</th>\n",
       "      <th>time_spend_company</th>\n",
       "      <th>Work_accident</th>\n",
       "      <th>promotion_last_5years</th>\n",
       "      <th>salary</th>\n",
       "    </tr>\n",
       "  </thead>\n",
       "  <tbody>\n",
       "    <tr>\n",
       "      <th>7686</th>\n",
       "      <td>0.67</td>\n",
       "      <td>0.92</td>\n",
       "      <td>4</td>\n",
       "      <td>156</td>\n",
       "      <td>2</td>\n",
       "      <td>0</td>\n",
       "      <td>0</td>\n",
       "      <td>2</td>\n",
       "    </tr>\n",
       "    <tr>\n",
       "      <th>8988</th>\n",
       "      <td>0.96</td>\n",
       "      <td>0.93</td>\n",
       "      <td>3</td>\n",
       "      <td>238</td>\n",
       "      <td>2</td>\n",
       "      <td>0</td>\n",
       "      <td>0</td>\n",
       "      <td>1</td>\n",
       "    </tr>\n",
       "    <tr>\n",
       "      <th>5850</th>\n",
       "      <td>0.83</td>\n",
       "      <td>0.75</td>\n",
       "      <td>3</td>\n",
       "      <td>150</td>\n",
       "      <td>3</td>\n",
       "      <td>0</td>\n",
       "      <td>0</td>\n",
       "      <td>1</td>\n",
       "    </tr>\n",
       "    <tr>\n",
       "      <th>10600</th>\n",
       "      <td>0.63</td>\n",
       "      <td>0.94</td>\n",
       "      <td>4</td>\n",
       "      <td>219</td>\n",
       "      <td>3</td>\n",
       "      <td>0</td>\n",
       "      <td>0</td>\n",
       "      <td>1</td>\n",
       "    </tr>\n",
       "    <tr>\n",
       "      <th>6207</th>\n",
       "      <td>0.63</td>\n",
       "      <td>0.98</td>\n",
       "      <td>4</td>\n",
       "      <td>210</td>\n",
       "      <td>3</td>\n",
       "      <td>0</td>\n",
       "      <td>0</td>\n",
       "      <td>2</td>\n",
       "    </tr>\n",
       "    <tr>\n",
       "      <th>...</th>\n",
       "      <td>...</td>\n",
       "      <td>...</td>\n",
       "      <td>...</td>\n",
       "      <td>...</td>\n",
       "      <td>...</td>\n",
       "      <td>...</td>\n",
       "      <td>...</td>\n",
       "      <td>...</td>\n",
       "    </tr>\n",
       "    <tr>\n",
       "      <th>1395</th>\n",
       "      <td>0.45</td>\n",
       "      <td>0.51</td>\n",
       "      <td>2</td>\n",
       "      <td>156</td>\n",
       "      <td>3</td>\n",
       "      <td>0</td>\n",
       "      <td>0</td>\n",
       "      <td>2</td>\n",
       "    </tr>\n",
       "    <tr>\n",
       "      <th>3273</th>\n",
       "      <td>0.49</td>\n",
       "      <td>0.52</td>\n",
       "      <td>5</td>\n",
       "      <td>188</td>\n",
       "      <td>4</td>\n",
       "      <td>0</td>\n",
       "      <td>0</td>\n",
       "      <td>2</td>\n",
       "    </tr>\n",
       "    <tr>\n",
       "      <th>4475</th>\n",
       "      <td>0.67</td>\n",
       "      <td>0.52</td>\n",
       "      <td>4</td>\n",
       "      <td>262</td>\n",
       "      <td>2</td>\n",
       "      <td>0</td>\n",
       "      <td>0</td>\n",
       "      <td>2</td>\n",
       "    </tr>\n",
       "    <tr>\n",
       "      <th>11969</th>\n",
       "      <td>0.60</td>\n",
       "      <td>0.85</td>\n",
       "      <td>3</td>\n",
       "      <td>242</td>\n",
       "      <td>2</td>\n",
       "      <td>0</td>\n",
       "      <td>0</td>\n",
       "      <td>1</td>\n",
       "    </tr>\n",
       "    <tr>\n",
       "      <th>7952</th>\n",
       "      <td>0.41</td>\n",
       "      <td>0.56</td>\n",
       "      <td>2</td>\n",
       "      <td>121</td>\n",
       "      <td>2</td>\n",
       "      <td>0</td>\n",
       "      <td>0</td>\n",
       "      <td>2</td>\n",
       "    </tr>\n",
       "  </tbody>\n",
       "</table>\n",
       "<p>13499 rows × 8 columns</p>\n",
       "</div>"
      ],
      "text/plain": [
       "       satisfaction_level  last_evaluation  number_project  \\\n",
       "7686                 0.67             0.92               4   \n",
       "8988                 0.96             0.93               3   \n",
       "5850                 0.83             0.75               3   \n",
       "10600                0.63             0.94               4   \n",
       "6207                 0.63             0.98               4   \n",
       "...                   ...              ...             ...   \n",
       "1395                 0.45             0.51               2   \n",
       "3273                 0.49             0.52               5   \n",
       "4475                 0.67             0.52               4   \n",
       "11969                0.60             0.85               3   \n",
       "7952                 0.41             0.56               2   \n",
       "\n",
       "       average_montly_hours  time_spend_company  Work_accident  \\\n",
       "7686                    156                   2              0   \n",
       "8988                    238                   2              0   \n",
       "5850                    150                   3              0   \n",
       "10600                   219                   3              0   \n",
       "6207                    210                   3              0   \n",
       "...                     ...                 ...            ...   \n",
       "1395                    156                   3              0   \n",
       "3273                    188                   4              0   \n",
       "4475                    262                   2              0   \n",
       "11969                   242                   2              0   \n",
       "7952                    121                   2              0   \n",
       "\n",
       "       promotion_last_5years  salary  \n",
       "7686                       0       2  \n",
       "8988                       0       1  \n",
       "5850                       0       1  \n",
       "10600                      0       1  \n",
       "6207                       0       2  \n",
       "...                      ...     ...  \n",
       "1395                       0       2  \n",
       "3273                       0       2  \n",
       "4475                       0       2  \n",
       "11969                      0       1  \n",
       "7952                       0       2  \n",
       "\n",
       "[13499 rows x 8 columns]"
      ]
     },
     "execution_count": 123,
     "metadata": {},
     "output_type": "execute_result"
    }
   ],
   "source": [
    "X"
   ]
  },
  {
   "cell_type": "code",
   "execution_count": 124,
   "metadata": {},
   "outputs": [
    {
     "data": {
      "text/html": [
       "<div>\n",
       "<style scoped>\n",
       "    .dataframe tbody tr th:only-of-type {\n",
       "        vertical-align: middle;\n",
       "    }\n",
       "\n",
       "    .dataframe tbody tr th {\n",
       "        vertical-align: top;\n",
       "    }\n",
       "\n",
       "    .dataframe thead th {\n",
       "        text-align: right;\n",
       "    }\n",
       "</style>\n",
       "<table border=\"1\" class=\"dataframe\">\n",
       "  <thead>\n",
       "    <tr style=\"text-align: right;\">\n",
       "      <th></th>\n",
       "      <th>satisfaction_level</th>\n",
       "      <th>last_evaluation</th>\n",
       "      <th>number_project</th>\n",
       "      <th>average_montly_hours</th>\n",
       "      <th>time_spend_company</th>\n",
       "    </tr>\n",
       "  </thead>\n",
       "  <tbody>\n",
       "    <tr>\n",
       "      <th>7686</th>\n",
       "      <td>0.67</td>\n",
       "      <td>0.92</td>\n",
       "      <td>4</td>\n",
       "      <td>156</td>\n",
       "      <td>2</td>\n",
       "    </tr>\n",
       "    <tr>\n",
       "      <th>8988</th>\n",
       "      <td>0.96</td>\n",
       "      <td>0.93</td>\n",
       "      <td>3</td>\n",
       "      <td>238</td>\n",
       "      <td>2</td>\n",
       "    </tr>\n",
       "    <tr>\n",
       "      <th>5850</th>\n",
       "      <td>0.83</td>\n",
       "      <td>0.75</td>\n",
       "      <td>3</td>\n",
       "      <td>150</td>\n",
       "      <td>3</td>\n",
       "    </tr>\n",
       "    <tr>\n",
       "      <th>10600</th>\n",
       "      <td>0.63</td>\n",
       "      <td>0.94</td>\n",
       "      <td>4</td>\n",
       "      <td>219</td>\n",
       "      <td>3</td>\n",
       "    </tr>\n",
       "    <tr>\n",
       "      <th>6207</th>\n",
       "      <td>0.63</td>\n",
       "      <td>0.98</td>\n",
       "      <td>4</td>\n",
       "      <td>210</td>\n",
       "      <td>3</td>\n",
       "    </tr>\n",
       "    <tr>\n",
       "      <th>...</th>\n",
       "      <td>...</td>\n",
       "      <td>...</td>\n",
       "      <td>...</td>\n",
       "      <td>...</td>\n",
       "      <td>...</td>\n",
       "    </tr>\n",
       "    <tr>\n",
       "      <th>1395</th>\n",
       "      <td>0.45</td>\n",
       "      <td>0.51</td>\n",
       "      <td>2</td>\n",
       "      <td>156</td>\n",
       "      <td>3</td>\n",
       "    </tr>\n",
       "    <tr>\n",
       "      <th>3273</th>\n",
       "      <td>0.49</td>\n",
       "      <td>0.52</td>\n",
       "      <td>5</td>\n",
       "      <td>188</td>\n",
       "      <td>4</td>\n",
       "    </tr>\n",
       "    <tr>\n",
       "      <th>4475</th>\n",
       "      <td>0.67</td>\n",
       "      <td>0.52</td>\n",
       "      <td>4</td>\n",
       "      <td>262</td>\n",
       "      <td>2</td>\n",
       "    </tr>\n",
       "    <tr>\n",
       "      <th>11969</th>\n",
       "      <td>0.60</td>\n",
       "      <td>0.85</td>\n",
       "      <td>3</td>\n",
       "      <td>242</td>\n",
       "      <td>2</td>\n",
       "    </tr>\n",
       "    <tr>\n",
       "      <th>7952</th>\n",
       "      <td>0.41</td>\n",
       "      <td>0.56</td>\n",
       "      <td>2</td>\n",
       "      <td>121</td>\n",
       "      <td>2</td>\n",
       "    </tr>\n",
       "  </tbody>\n",
       "</table>\n",
       "<p>13499 rows × 5 columns</p>\n",
       "</div>"
      ],
      "text/plain": [
       "       satisfaction_level  last_evaluation  number_project  \\\n",
       "7686                 0.67             0.92               4   \n",
       "8988                 0.96             0.93               3   \n",
       "5850                 0.83             0.75               3   \n",
       "10600                0.63             0.94               4   \n",
       "6207                 0.63             0.98               4   \n",
       "...                   ...              ...             ...   \n",
       "1395                 0.45             0.51               2   \n",
       "3273                 0.49             0.52               5   \n",
       "4475                 0.67             0.52               4   \n",
       "11969                0.60             0.85               3   \n",
       "7952                 0.41             0.56               2   \n",
       "\n",
       "       average_montly_hours  time_spend_company  \n",
       "7686                    156                   2  \n",
       "8988                    238                   2  \n",
       "5850                    150                   3  \n",
       "10600                   219                   3  \n",
       "6207                    210                   3  \n",
       "...                     ...                 ...  \n",
       "1395                    156                   3  \n",
       "3273                    188                   4  \n",
       "4475                    262                   2  \n",
       "11969                   242                   2  \n",
       "7952                    121                   2  \n",
       "\n",
       "[13499 rows x 5 columns]"
      ]
     },
     "execution_count": 124,
     "metadata": {},
     "output_type": "execute_result"
    }
   ],
   "source": [
    "##satisfication level', 'number project', 'time spend company', 'average monthy hours', and 'last evaluation'\n",
    "X = X.drop(['Work_accident', 'promotion_last_5years', 'salary'],axis=1)\n",
    "X"
   ]
  },
  {
   "cell_type": "code",
   "execution_count": 126,
   "metadata": {},
   "outputs": [
    {
     "name": "stdout",
     "output_type": "stream",
     "text": [
      "Accuracy Score: 0.99\n"
     ]
    }
   ],
   "source": [
    "X_train, X_test, y_train, y_test = train_test_split(X,y,test_size=0.2)\n",
    "\n",
    "\n",
    "\n",
    "finalModel = RandomForestClassifier(max_features = 2, n_estimators = 190)\n",
    "finalModel.fit(X_train, y_train)\n",
    "y_predModel =finalModel.predict(X_test)\n",
    "\n",
    "print(\"Accuracy Score:\", accuracy_score(y_predModel, y_test))"
   ]
  },
  {
   "cell_type": "markdown",
   "metadata": {},
   "source": [
    "With this model, which has a 97 percent accuracy, we do train-test-split\n",
    "\n",
    "\t1. Request five values from the user: Point 1, Point 2, Point 3, Point 4, Point 5.\n",
    "    \n",
    "\t2. If any of the user input values are null, they will be replaced with 0.\n",
    "    \n",
    "    3. Fit the user input to our best model, which is a random forest classifier with \n",
    " \t    hyperparameters max_features = 2 and n_estimators = 190.\n",
    "        \n",
    "    4. Print the projected outcomes.\n"
   ]
  },
  {
   "cell_type": "code",
   "execution_count": 135,
   "metadata": {},
   "outputs": [],
   "source": [
    "def prediction(Point1, Point2, Point3, Point4, Point5):\n",
    "    #Pre-processing user input where if null, replace with 0\n",
    "    if(Point1 == ''):\n",
    "        Point1=0\n",
    "    if(Point2 == ''):\n",
    "        Point2=0\n",
    "    if(Point3 == ''):\n",
    "        Point3=0\n",
    "    if(Point4 == ''):\n",
    "        Point4=0\n",
    "    if(Point5 == ''):\n",
    "        Point5=0\n",
    "        \n",
    "    prediction = finalModel.predict([[Point1, Point2, Point3, Point4, Point5]])\n",
    "    if prediction ==1:\n",
    "        pred = 1\n",
    "    else:\n",
    "        pred = 0\n",
    "    return pred"
   ]
  },
  {
   "cell_type": "code",
   "execution_count": 137,
   "metadata": {},
   "outputs": [
    {
     "name": "stdout",
     "output_type": "stream",
     "text": [
      "Satisfaction Level:0.8\n",
      "Last Evaluation:0.57\n",
      "Number Project:3\n",
      "Average Montly Hour:162\n",
      "Time Spend Company:2\n",
      "Predicted Class result:  0\n"
     ]
    }
   ],
   "source": [
    "def main():\n",
    "    satisfactionLevel = input (\"Satisfaction Level:\")\n",
    "    lastEvaluation = input (\"Last Evaluation:\")\n",
    "    numberProject = input (\"Number Project:\")\n",
    "    averageMontlyHour = input (\"Average Montly Hour:\")\n",
    "    timeSpendCompany = input (\"Time Spend Company:\")\n",
    "    \n",
    "    \n",
    "    \n",
    "    result = prediction(satisfactionLevel,lastEvaluation, numberProject, averageMontlyHour, timeSpendCompany)\n",
    "    print('Predicted Class result: ', result)\n",
    "    return\n",
    "main()"
   ]
  },
  {
   "cell_type": "markdown",
   "metadata": {},
   "source": [
    "## Conclusion\n",
    "\n",
    "In conclusion, the Random Forest Classifier is the best model to employ on this collection of data.\n",
    "Even when normal data, one-hot encoded data and PCA data, the Random Forest Classifier produces the best accuracy among the other models, whereas the Linear Discriminant produces the lowest results in every case. It is also obvious that substituting the NaN values with the one-hot encoded role column cannot improves the model's performance.\n"
   ]
  }
 ],
 "metadata": {
  "kernelspec": {
   "display_name": "Python 3",
   "language": "python",
   "name": "python3"
  },
  "language_info": {
   "codemirror_mode": {
    "name": "ipython",
    "version": 3
   },
   "file_extension": ".py",
   "mimetype": "text/x-python",
   "name": "python",
   "nbconvert_exporter": "python",
   "pygments_lexer": "ipython3",
   "version": "3.8.8"
  }
 },
 "nbformat": 4,
 "nbformat_minor": 4
}
